{
 "cells": [
  {
   "cell_type": "markdown",
   "id": "6d003491-0411-4245-9f4a-cf4dcf42b14b",
   "metadata": {},
   "source": [
    "# before and after using ? you can know the information of about the object"
   ]
  },
  {
   "cell_type": "code",
   "execution_count": 1,
   "id": "500c5a68-0eaa-4600-a3ad-1b0b2f3bcf45",
   "metadata": {},
   "outputs": [],
   "source": [
    "b = [1, 3, 5]"
   ]
  },
  {
   "cell_type": "code",
   "execution_count": 2,
   "id": "d4d67eac-84b6-4d55-819e-6c0901200e1b",
   "metadata": {},
   "outputs": [
    {
     "data": {
      "text/plain": [
       "\u001b[0;31mType:\u001b[0m        list\n",
       "\u001b[0;31mString form:\u001b[0m [1, 3, 5]\n",
       "\u001b[0;31mLength:\u001b[0m      3\n",
       "\u001b[0;31mDocstring:\u001b[0m  \n",
       "Built-in mutable sequence.\n",
       "\n",
       "If no argument is given, the constructor creates a new empty list.\n",
       "The argument must be an iterable if specified."
      ]
     },
     "metadata": {},
     "output_type": "display_data"
    }
   ],
   "source": [
    "b?"
   ]
  },
  {
   "cell_type": "code",
   "execution_count": 3,
   "id": "e60b3925-cb28-42ad-aa90-1e80623145ac",
   "metadata": {},
   "outputs": [
    {
     "data": {
      "text/plain": [
       "\u001b[0;31mSignature:\u001b[0m \u001b[0mprint\u001b[0m\u001b[0;34m(\u001b[0m\u001b[0;34m*\u001b[0m\u001b[0margs\u001b[0m\u001b[0;34m,\u001b[0m \u001b[0msep\u001b[0m\u001b[0;34m=\u001b[0m\u001b[0;34m' '\u001b[0m\u001b[0;34m,\u001b[0m \u001b[0mend\u001b[0m\u001b[0;34m=\u001b[0m\u001b[0;34m'\\n'\u001b[0m\u001b[0;34m,\u001b[0m \u001b[0mfile\u001b[0m\u001b[0;34m=\u001b[0m\u001b[0;32mNone\u001b[0m\u001b[0;34m,\u001b[0m \u001b[0mflush\u001b[0m\u001b[0;34m=\u001b[0m\u001b[0;32mFalse\u001b[0m\u001b[0;34m)\u001b[0m\u001b[0;34m\u001b[0m\u001b[0;34m\u001b[0m\u001b[0m\n",
       "\u001b[0;31mDocstring:\u001b[0m\n",
       "Prints the values to a stream, or to sys.stdout by default.\n",
       "\n",
       "sep\n",
       "  string inserted between values, default a space.\n",
       "end\n",
       "  string appended after the last value, default a newline.\n",
       "file\n",
       "  a file-like object (stream); defaults to the current sys.stdout.\n",
       "flush\n",
       "  whether to forcibly flush the stream.\n",
       "\u001b[0;31mType:\u001b[0m      builtin_function_or_method"
      ]
     },
     "metadata": {},
     "output_type": "display_data"
    }
   ],
   "source": [
    "print?"
   ]
  },
  {
   "cell_type": "code",
   "execution_count": 4,
   "id": "e92ad2e4-22d3-4821-905a-8b3e971e663d",
   "metadata": {},
   "outputs": [],
   "source": [
    "def add_number(a, b):\n",
    "    return a+b"
   ]
  },
  {
   "cell_type": "code",
   "execution_count": 5,
   "id": "e818a494-b6c2-46d7-9799-3f80251bc912",
   "metadata": {},
   "outputs": [
    {
     "data": {
      "text/plain": [
       "\u001b[0;31mSignature:\u001b[0m \u001b[0madd_number\u001b[0m\u001b[0;34m(\u001b[0m\u001b[0ma\u001b[0m\u001b[0;34m,\u001b[0m \u001b[0mb\u001b[0m\u001b[0;34m)\u001b[0m\u001b[0;34m\u001b[0m\u001b[0;34m\u001b[0m\u001b[0m\n",
       "\u001b[0;31mDocstring:\u001b[0m <no docstring>\n",
       "\u001b[0;31mFile:\u001b[0m      /tmp/ipykernel_7411/2965931469.py\n",
       "\u001b[0;31mType:\u001b[0m      function"
      ]
     },
     "metadata": {},
     "output_type": "display_data"
    }
   ],
   "source": [
    "add_number?"
   ]
  },
  {
   "cell_type": "code",
   "execution_count": 6,
   "id": "95ef6ff0-9ef3-4ab3-940c-c6e99edb6f26",
   "metadata": {},
   "outputs": [
    {
     "data": {
      "text/plain": [
       "9"
      ]
     },
     "execution_count": 6,
     "metadata": {},
     "output_type": "execute_result"
    }
   ],
   "source": [
    "add_number(4, 5)"
   ]
  },
  {
   "cell_type": "markdown",
   "id": "8dc3aa26-e0d3-4048-9ffb-6c19365b2f7c",
   "metadata": {},
   "source": [
    "# Built in sequence Function"
   ]
  },
  {
   "cell_type": "markdown",
   "id": "7d02f0b5-dab1-4e7f-a40c-e8b7a85e902e",
   "metadata": {},
   "source": [
    "--> python has a handful of useful sequence funtions that you should familiraze yourself with and use at any opportunity"
   ]
  },
  {
   "cell_type": "code",
   "execution_count": 7,
   "id": "c8f73d58-be5c-4ce1-a09c-8dcca24991dc",
   "metadata": {},
   "outputs": [
    {
     "name": "stdout",
     "output_type": "stream",
     "text": [
      "hello\n"
     ]
    }
   ],
   "source": [
    "print(\"hello\")"
   ]
  },
  {
   "cell_type": "code",
   "execution_count": 8,
   "id": "f85666ac-5b3e-40d9-b862-3a4f88514093",
   "metadata": {},
   "outputs": [
    {
     "name": "stdout",
     "output_type": "stream",
     "text": [
      "number 0 : 2\n",
      "number 1 : 4\n",
      "number 2 : 5\n",
      "number 3 : 2\n",
      "number 4 : 6\n",
      "number 5 : 8\n",
      "number 6 : 9\n",
      "number 7 : 10\n"
     ]
    }
   ],
   "source": [
    "#Enumeration consecpt which is used to track the iterator of an item\n",
    "list1 = [2, 4, 5, 2, 6, 8, 9, 10]\n",
    "for index, value in enumerate(list1):\n",
    "    print(f\"number {index} : {value}\")"
   ]
  },
  {
   "cell_type": "code",
   "execution_count": 9,
   "id": "5f94c26f-c54a-4689-b0fa-abc0a2f3b27d",
   "metadata": {},
   "outputs": [
    {
     "data": {
      "text/plain": [
       "[2, 4, 5, 6, 7, 12, 56]"
      ]
     },
     "execution_count": 9,
     "metadata": {},
     "output_type": "execute_result"
    }
   ],
   "source": [
    "#sorted consecpt\n",
    "sorted([2, 4, 5, 6, 7, 12, 56])"
   ]
  },
  {
   "cell_type": "code",
   "execution_count": 10,
   "id": "e2399e32-80d8-4175-bed9-2980757724b3",
   "metadata": {},
   "outputs": [
    {
     "name": "stdout",
     "output_type": "stream",
     "text": [
      "(1, 'harsh') and 0\n",
      "(2, 'Ram') and 1\n",
      "(3, 'shyam') and 2\n",
      "(4, 'Ramu') and 3\n",
      "(5, 'Shamu') and 4\n",
      "(6, 'kiran') and 5\n"
     ]
    }
   ],
   "source": [
    "#zip function enumeration \n",
    "list1 = [1, 2, 3, 4, 5, 6]\n",
    "list2 = ['harsh', 'Ram', 'shyam', 'Ramu', 'Shamu', 'kiran']\n",
    "for index, value in enumerate(zip(list1, list2)):\n",
    "    print(f'{value} and {index}')\n"
   ]
  },
  {
   "cell_type": "markdown",
   "id": "245e20ca-e7f3-42fb-b271-e791b3023724",
   "metadata": {},
   "source": [
    "# list , set and dictionary concept"
   ]
  },
  {
   "cell_type": "code",
   "execution_count": 11,
   "id": "9245ce4b-1668-425a-a8c6-cc612ca2f93a",
   "metadata": {},
   "outputs": [
    {
     "data": {
      "text/plain": [
       "['ASS', 'ASS', 'ASDF', 'ERER']"
      ]
     },
     "execution_count": 11,
     "metadata": {},
     "output_type": "execute_result"
    }
   ],
   "source": [
    "#syntax : [exp for value in item if conditions]\n",
    "list_of_Strings = ['a', 'as', 'ass','ass', 'asdf', 'erer']\n",
    "[value.upper() for value in list_of_Strings if len(value)>2]"
   ]
  },
  {
   "cell_type": "code",
   "execution_count": 12,
   "id": "9a011369-1115-47de-b850-35e6bc3489b7",
   "metadata": {},
   "outputs": [
    {
     "data": {
      "text/plain": [
       "{'ASDF', 'ASS', 'ERER'}"
      ]
     },
     "execution_count": 12,
     "metadata": {},
     "output_type": "execute_result"
    }
   ],
   "source": [
    "#Set is similar to this only we use a {} in place of the []\n",
    "{value.upper() for value in list_of_Strings if len(value)>2}"
   ]
  },
  {
   "cell_type": "code",
   "execution_count": 13,
   "id": "5404dc3b-09da-47dc-a6e0-2b758d562f9b",
   "metadata": {},
   "outputs": [
    {
     "data": {
      "text/plain": [
       "{12: 'Y', 13: 'Y', 14: 'Y'}"
      ]
     },
     "execution_count": 13,
     "metadata": {},
     "output_type": "execute_result"
    }
   ],
   "source": [
    "#syntax :- {keyexperasion:valueexperasion for value in collections if conditions}\n",
    "{i+12:value.upper() for i in range(3) for value in 'hey'}"
   ]
  },
  {
   "cell_type": "markdown",
   "id": "6e9ab676-561e-4b2b-a80b-8dfa67cba3b2",
   "metadata": {},
   "source": [
    "# Functions"
   ]
  },
  {
   "cell_type": "code",
   "execution_count": 14,
   "id": "ce8615d7-889a-41e8-8e26-c6f0ac5d422f",
   "metadata": {},
   "outputs": [],
   "source": [
    "import re\n",
    "#syntax : it takes re.sub(pattern, replace, string)"
   ]
  },
  {
   "cell_type": "code",
   "execution_count": 15,
   "id": "9c8afe59-5fa7-48b8-9226-e92ec39fd5fb",
   "metadata": {},
   "outputs": [
    {
     "name": "stdout",
     "output_type": "stream",
     "text": [
      "DemonLoar?\n"
     ]
    }
   ],
   "source": [
    "string = \"  DemonLoar###? \"\n",
    "string = string.strip()\n",
    "string = re.sub(\"#\",\"\", string)\n",
    "print(string)"
   ]
  },
  {
   "cell_type": "code",
   "execution_count": 16,
   "id": "4cc048e3-4449-4bca-ac02-a8db81af1b4a",
   "metadata": {},
   "outputs": [
    {
     "data": {
      "text/plain": [
       "'DemonLoar?'"
      ]
     },
     "execution_count": 16,
     "metadata": {},
     "output_type": "execute_result"
    }
   ],
   "source": [
    "string.strip()"
   ]
  },
  {
   "cell_type": "code",
   "execution_count": 17,
   "id": "e161f6c0-aeef-4c21-bb28-ab9f5039ea16",
   "metadata": {},
   "outputs": [
    {
     "data": {
      "text/plain": [
       "['ki', 'hey', 'hal', 'chal', 'whatsapp']"
      ]
     },
     "execution_count": 17,
     "metadata": {},
     "output_type": "execute_result"
    }
   ],
   "source": [
    "#Anonmyous functions\n",
    "equ = lambda x:x*2\n",
    "string = ['hey', 'whatsapp', 'ki', 'hal', 'chal']\n",
    "string.sort(key=lambda x:len(set(x)))\n",
    "string"
   ]
  },
  {
   "cell_type": "code",
   "execution_count": 18,
   "id": "e34ca148-ebd3-4ee4-88ca-d177258690f2",
   "metadata": {},
   "outputs": [
    {
     "data": {
      "text/plain": [
       "10"
      ]
     },
     "execution_count": 18,
     "metadata": {},
     "output_type": "execute_result"
    }
   ],
   "source": [
    "equ(5)"
   ]
  },
  {
   "cell_type": "markdown",
   "id": "c853bc93-a4f6-499c-9bd2-4b579a06e750",
   "metadata": {},
   "source": [
    "# Generator function"
   ]
  },
  {
   "cell_type": "code",
   "execution_count": 19,
   "id": "d74f3ad9-6817-44b9-acae-014ccb26913e",
   "metadata": {},
   "outputs": [
    {
     "name": "stdout",
     "output_type": "stream",
     "text": [
      "a\n",
      "b\n",
      "c\n"
     ]
    },
    {
     "data": {
      "text/plain": [
       "{'a': 1, 'b': 2, 'c': 3}"
      ]
     },
     "execution_count": 19,
     "metadata": {},
     "output_type": "execute_result"
    }
   ],
   "source": [
    "dic = {'a':1, 'b':2, 'c':3}\n",
    "for key in dic:\n",
    "    print(key)\n",
    "dic"
   ]
  },
  {
   "cell_type": "code",
   "execution_count": 20,
   "id": "95c7e26e-635f-41cb-a606-3e26553e81c3",
   "metadata": {},
   "outputs": [
    {
     "data": {
      "text/plain": [
       "['a', 'b', 'c']"
      ]
     },
     "execution_count": 20,
     "metadata": {},
     "output_type": "execute_result"
    }
   ],
   "source": [
    "# A ierator protocol is the genric way to make objects iterable\n",
    "diciter = iter(dic)\n",
    "diciter\n",
    "list(diciter)"
   ]
  },
  {
   "cell_type": "code",
   "execution_count": 21,
   "id": "171b6f53-9ccb-41c3-a946-d8f6cf728d3e",
   "metadata": {},
   "outputs": [
    {
     "name": "stdout",
     "output_type": "stream",
     "text": [
      "1\n",
      "4\n",
      "9\n",
      "16\n",
      "25\n",
      "36\n",
      "49\n",
      "64\n",
      "81\n",
      "100\n"
     ]
    }
   ],
   "source": [
    "#A generator is a way similar to writing a noramal function to construct a new iterabel object \n",
    "#A return keyword is used to return at a time and yield keyword is use to return a multiple value\n",
    "def squares(n=10):\n",
    "    for i in range(1, n+1):\n",
    "        yield i**2\n",
    "gen = squares()\n",
    "for x in gen:\n",
    "    print(x)\n",
    "    "
   ]
  },
  {
   "cell_type": "code",
   "execution_count": 22,
   "id": "c4419331-a2d8-4200-be67-ff740ada53d4",
   "metadata": {},
   "outputs": [],
   "source": [
    "#generator experssion :- It is the another way to generate. This is a generator\n",
    "#anlogue to list , dictionary and set comprehensions to crete on enclose what would other wise be a list comprehnsion within parentheses instead of breackets:\n",
    "gen = (x**2 for x in range(10))"
   ]
  },
  {
   "cell_type": "code",
   "execution_count": 23,
   "id": "0671dc20-5298-494f-bad7-f579139cc821",
   "metadata": {},
   "outputs": [
    {
     "data": {
      "text/plain": [
       "[0, 1, 4, 9, 16, 25, 36, 49, 64, 81]"
      ]
     },
     "execution_count": 23,
     "metadata": {},
     "output_type": "execute_result"
    }
   ],
   "source": [
    "list(gen)"
   ]
  },
  {
   "cell_type": "markdown",
   "id": "d1c73438-b806-440b-ad42-d1e83e50d0b4",
   "metadata": {},
   "source": [
    "#  itertools module "
   ]
  },
  {
   "cell_type": "code",
   "execution_count": 25,
   "id": "f97b4abb-79d8-4bf5-af5e-81a500b194ca",
   "metadata": {},
   "outputs": [],
   "source": [
    "#for handle the error and exception it provide try and except and finally and else there are many type of error like value error and type error"
   ]
  }
 ],
 "metadata": {
  "kernelspec": {
   "display_name": "Python 3 (ipykernel)",
   "language": "python",
   "name": "python3"
  },
  "language_info": {
   "codemirror_mode": {
    "name": "ipython",
    "version": 3
   },
   "file_extension": ".py",
   "mimetype": "text/x-python",
   "name": "python",
   "nbconvert_exporter": "python",
   "pygments_lexer": "ipython3",
   "version": "3.11.2"
  }
 },
 "nbformat": 4,
 "nbformat_minor": 5
}
