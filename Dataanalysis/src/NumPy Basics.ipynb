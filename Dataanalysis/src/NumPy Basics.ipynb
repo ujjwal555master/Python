{
 "cells": [
  {
   "cell_type": "code",
   "execution_count": 1,
   "id": "e30065fa-716b-4324-b8ec-99a9b639aa02",
   "metadata": {},
   "outputs": [],
   "source": [
    "#For an example\n",
    "import numpy as np"
   ]
  },
  {
   "cell_type": "code",
   "execution_count": 2,
   "id": "e331893a-c3ea-43d2-8b67-b5887843dcb6",
   "metadata": {},
   "outputs": [],
   "source": [
    "my_arr = np.arange(100000)   #Demo for testing timing of numpy array\n",
    "mylist = list(range(100000))"
   ]
  },
  {
   "cell_type": "code",
   "execution_count": 3,
   "id": "7f2560ac-2bcb-457b-87ba-b2e4f16e7596",
   "metadata": {},
   "outputs": [
    {
     "name": "stdout",
     "output_type": "stream",
     "text": [
      "100 μs ± 12.2 μs per loop (mean ± std. dev. of 7 runs, 10,000 loops each)\n"
     ]
    }
   ],
   "source": [
    "%timeit my_arr2 = my_arr*2"
   ]
  },
  {
   "cell_type": "code",
   "execution_count": 4,
   "id": "eb0d6654-d311-4713-af9f-b12744de31cf",
   "metadata": {},
   "outputs": [
    {
     "name": "stdout",
     "output_type": "stream",
     "text": [
      "17 ms ± 1.74 ms per loop (mean ± std. dev. of 7 runs, 100 loops each)\n"
     ]
    }
   ],
   "source": [
    "%timeit mylist2 = [x*2 for x in mylist]"
   ]
  },
  {
   "cell_type": "markdown",
   "id": "5d89e940-9645-4d93-9519-3bc47c62b15b",
   "metadata": {},
   "source": [
    "# ndarray: A Multidimensional array Object"
   ]
  },
  {
   "cell_type": "code",
   "execution_count": 5,
   "id": "f98b4936-39bf-47bc-b602-652323416510",
   "metadata": {},
   "outputs": [],
   "source": [
    "data = np.array([[1.5, -0.1, 3],[0,-3,6.5]])    #d2 dimensional array"
   ]
  },
  {
   "cell_type": "code",
   "execution_count": 6,
   "id": "07776cbb-332e-4943-90d2-62db7b1da111",
   "metadata": {},
   "outputs": [
    {
     "data": {
      "text/plain": [
       "array([[ 15.,  -1.,  30.],\n",
       "       [  0., -30.,  65.]])"
      ]
     },
     "execution_count": 6,
     "metadata": {},
     "output_type": "execute_result"
    }
   ],
   "source": [
    "data*10"
   ]
  },
  {
   "cell_type": "code",
   "execution_count": 7,
   "id": "5149ea85-6907-49bb-81e1-09ea0413185b",
   "metadata": {},
   "outputs": [
    {
     "data": {
      "text/plain": [
       "array([[ 3. , -0.2,  6. ],\n",
       "       [ 0. , -6. , 13. ]])"
      ]
     },
     "execution_count": 7,
     "metadata": {},
     "output_type": "execute_result"
    }
   ],
   "source": [
    "data+data"
   ]
  },
  {
   "cell_type": "code",
   "execution_count": 8,
   "id": "dfc7a861-e804-46f8-9340-eb424759aafd",
   "metadata": {},
   "outputs": [
    {
     "data": {
      "text/plain": [
       "(2, 3)"
      ]
     },
     "execution_count": 8,
     "metadata": {},
     "output_type": "execute_result"
    }
   ],
   "source": [
    "data.shape"
   ]
  },
  {
   "cell_type": "code",
   "execution_count": 9,
   "id": "81ad003a-5597-4727-93d8-82b2c300c581",
   "metadata": {},
   "outputs": [
    {
     "data": {
      "text/plain": [
       "dtype('float64')"
      ]
     },
     "execution_count": 9,
     "metadata": {},
     "output_type": "execute_result"
    }
   ],
   "source": [
    "data.dtype"
   ]
  },
  {
   "cell_type": "code",
   "execution_count": 10,
   "id": "7c95be40-6963-4e15-8fc6-b19250544a38",
   "metadata": {},
   "outputs": [
    {
     "data": {
      "text/plain": [
       "array([[ 2,  4,  5,  6,  3],\n",
       "       [ 2, 45,  7,  4,  3]])"
      ]
     },
     "execution_count": 10,
     "metadata": {},
     "output_type": "execute_result"
    }
   ],
   "source": [
    "#creating ndarray\n",
    "data = [[2, 4, 5, 6, 3],[2, 45, 7, 4, 3]]\n",
    "array1 = np.array(data)\n",
    "array1"
   ]
  },
  {
   "cell_type": "code",
   "execution_count": 11,
   "id": "9fbea46e-dad1-4cdc-8559-004b4c6a757f",
   "metadata": {},
   "outputs": [
    {
     "data": {
      "text/plain": [
       "2"
      ]
     },
     "execution_count": 11,
     "metadata": {},
     "output_type": "execute_result"
    }
   ],
   "source": [
    "array1.ndim"
   ]
  },
  {
   "cell_type": "code",
   "execution_count": 12,
   "id": "1b0df0b6-7c30-49f7-bff8-24a6e589bab5",
   "metadata": {},
   "outputs": [
    {
     "data": {
      "text/plain": [
       "array([0., 0., 0., 0., 0., 0., 0., 0., 0., 0.])"
      ]
     },
     "execution_count": 12,
     "metadata": {},
     "output_type": "execute_result"
    }
   ],
   "source": [
    "np.zeros(10)"
   ]
  },
  {
   "cell_type": "code",
   "execution_count": 13,
   "id": "2f39761c-fee2-4f2d-ba65-11802165c2f9",
   "metadata": {},
   "outputs": [
    {
     "data": {
      "text/plain": [
       "array([[0., 0., 0., 0., 0., 0.],\n",
       "       [0., 0., 0., 0., 0., 0.],\n",
       "       [0., 0., 0., 0., 0., 0.]])"
      ]
     },
     "execution_count": 13,
     "metadata": {},
     "output_type": "execute_result"
    }
   ],
   "source": [
    "np.zeros((3, 6))"
   ]
  },
  {
   "cell_type": "code",
   "execution_count": 14,
   "id": "2d8f60a6-e5b7-47cd-abcc-25c0ab119a55",
   "metadata": {},
   "outputs": [
    {
     "data": {
      "text/plain": [
       "array([[[          0,  1073217536],\n",
       "        [-1717986918, -1078355559],\n",
       "        [          0,  1074266112]],\n",
       "\n",
       "       [[          0,           0],\n",
       "        [          0, -1073217536],\n",
       "        [          0,  1075445760]]], dtype=int32)"
      ]
     },
     "execution_count": 14,
     "metadata": {},
     "output_type": "execute_result"
    }
   ],
   "source": [
    "np.empty((2,3,2), dtype=np.int32)     #changing the dimensions"
   ]
  },
  {
   "cell_type": "code",
   "execution_count": 15,
   "id": "6b09660d-7c09-4a13-b0f7-28db71497168",
   "metadata": {},
   "outputs": [
    {
     "data": {
      "text/plain": [
       "array([1., 1.])"
      ]
     },
     "execution_count": 15,
     "metadata": {},
     "output_type": "execute_result"
    }
   ],
   "source": [
    "np.ones(2)"
   ]
  },
  {
   "cell_type": "code",
   "execution_count": 16,
   "id": "d5d22fbd-70c0-4a01-8c6d-67ca07270c7c",
   "metadata": {},
   "outputs": [
    {
     "data": {
      "text/plain": [
       "array(1)"
      ]
     },
     "execution_count": 16,
     "metadata": {},
     "output_type": "execute_result"
    }
   ],
   "source": [
    "np.ones_like(4)"
   ]
  },
  {
   "cell_type": "code",
   "execution_count": 17,
   "id": "8557e36a-0762-40cc-b813-031ff8c2c4d1",
   "metadata": {},
   "outputs": [
    {
     "data": {
      "text/plain": [
       "array([3, 3])"
      ]
     },
     "execution_count": 17,
     "metadata": {},
     "output_type": "execute_result"
    }
   ],
   "source": [
    "np.full(2, 3) #creating 2 charachter with filling 3"
   ]
  },
  {
   "cell_type": "code",
   "execution_count": 18,
   "id": "baf30a17-72e7-4837-a0fd-c6f952a92350",
   "metadata": {},
   "outputs": [],
   "source": [
    "arr1 = np.array([3, 5, 2, 5], dtype=np.float64)"
   ]
  },
  {
   "cell_type": "code",
   "execution_count": 19,
   "id": "d312589d-231a-4d34-9fe9-140383a15bba",
   "metadata": {},
   "outputs": [
    {
     "data": {
      "text/plain": [
       "dtype('float64')"
      ]
     },
     "execution_count": 19,
     "metadata": {},
     "output_type": "execute_result"
    }
   ],
   "source": [
    "arr1.dtype"
   ]
  },
  {
   "cell_type": "code",
   "execution_count": 20,
   "id": "0d460f82-e694-4e19-be9b-2488c617b761",
   "metadata": {},
   "outputs": [
    {
     "data": {
      "text/plain": [
       "array([3, 5, 2, 5], dtype=int32)"
      ]
     },
     "execution_count": 20,
     "metadata": {},
     "output_type": "execute_result"
    }
   ],
   "source": [
    "arr1.astype(np.int32)"
   ]
  },
  {
   "cell_type": "code",
   "execution_count": 21,
   "id": "7b3c79be-77b1-4529-ae90-24f4ee877924",
   "metadata": {},
   "outputs": [
    {
     "data": {
      "text/plain": [
       "array([0., 1., 2., 3., 4., 5., 6., 7., 8., 9.])"
      ]
     },
     "execution_count": 21,
     "metadata": {},
     "output_type": "execute_result"
    }
   ],
   "source": [
    "int_array = np.arange(10)\n",
    "caliber = np.array([3, 5, 6, 7, 2], dtype=np.float64)\n",
    "int_array.astype(caliber.dtype)"
   ]
  },
  {
   "cell_type": "markdown",
   "id": "c0f16477-7fb1-43f9-bc0d-ccebf9dce398",
   "metadata": {},
   "source": [
    "# Arithmetic with NumPy Arrays"
   ]
  },
  {
   "cell_type": "code",
   "execution_count": 22,
   "id": "280d6ea6-2359-42fc-a885-d7ff40294904",
   "metadata": {},
   "outputs": [],
   "source": [
    "arr = np.array([[1, 3, 4], [4, 6, 2]])"
   ]
  },
  {
   "cell_type": "code",
   "execution_count": 23,
   "id": "9afc71a8-c82b-4724-b0e8-8b409aab1bc7",
   "metadata": {},
   "outputs": [
    {
     "data": {
      "text/plain": [
       "array([[ 1,  9, 16],\n",
       "       [16, 36,  4]])"
      ]
     },
     "execution_count": 23,
     "metadata": {},
     "output_type": "execute_result"
    }
   ],
   "source": [
    "arr*arr"
   ]
  },
  {
   "cell_type": "code",
   "execution_count": 24,
   "id": "21450400-04d5-44a1-b630-4416afe914ee",
   "metadata": {},
   "outputs": [
    {
     "data": {
      "text/plain": [
       "array([[0, 0, 0],\n",
       "       [0, 0, 0]])"
      ]
     },
     "execution_count": 24,
     "metadata": {},
     "output_type": "execute_result"
    }
   ],
   "source": [
    "arr-arr"
   ]
  },
  {
   "cell_type": "code",
   "execution_count": 25,
   "id": "629f0616-f074-4a37-9b11-bc5972311c6d",
   "metadata": {},
   "outputs": [
    {
     "data": {
      "text/plain": [
       "array([[1.        , 0.33333333, 0.25      ],\n",
       "       [0.25      , 0.16666667, 0.5       ]])"
      ]
     },
     "execution_count": 25,
     "metadata": {},
     "output_type": "execute_result"
    }
   ],
   "source": [
    "1/arr"
   ]
  },
  {
   "cell_type": "code",
   "execution_count": 26,
   "id": "679612f8-dd23-4dc3-8ecd-f9cb0c99ce8f",
   "metadata": {},
   "outputs": [
    {
     "data": {
      "text/plain": [
       "array([[ 1,  9, 16],\n",
       "       [16, 36,  4]])"
      ]
     },
     "execution_count": 26,
     "metadata": {},
     "output_type": "execute_result"
    }
   ],
   "source": [
    "arr**2"
   ]
  },
  {
   "cell_type": "code",
   "execution_count": 27,
   "id": "0d8ca800-aead-4baa-bf98-142f2d5f5b91",
   "metadata": {},
   "outputs": [
    {
     "data": {
      "text/plain": [
       "array([[False, False, False],\n",
       "       [False, False, False]])"
      ]
     },
     "execution_count": 27,
     "metadata": {},
     "output_type": "execute_result"
    }
   ],
   "source": [
    "arr>arr"
   ]
  },
  {
   "cell_type": "markdown",
   "id": "4527573a-bbe8-4fcc-9d59-39790e87e09f",
   "metadata": {},
   "source": [
    "# Indexing"
   ]
  },
  {
   "cell_type": "code",
   "execution_count": 28,
   "id": "e5924c6b-d789-4d7f-b2b1-a14149355900",
   "metadata": {},
   "outputs": [],
   "source": [
    "arr = np.arange(10)"
   ]
  },
  {
   "cell_type": "code",
   "execution_count": 29,
   "id": "df043a57-db77-427b-8366-51487b2b3514",
   "metadata": {},
   "outputs": [
    {
     "data": {
      "text/plain": [
       "array([2, 4, 6, 8])"
      ]
     },
     "execution_count": 29,
     "metadata": {},
     "output_type": "execute_result"
    }
   ],
   "source": [
    "arr[2:9:2]"
   ]
  },
  {
   "cell_type": "code",
   "execution_count": 30,
   "id": "b8259c6f-700b-437d-9b77-6ac5eae7533e",
   "metadata": {},
   "outputs": [
    {
     "data": {
      "text/plain": [
       "array([5, 7])"
      ]
     },
     "execution_count": 30,
     "metadata": {},
     "output_type": "execute_result"
    }
   ],
   "source": [
    "arr[5:9:2]"
   ]
  },
  {
   "cell_type": "code",
   "execution_count": 31,
   "id": "368018a1-9090-4379-8d51-18b9b313af2f",
   "metadata": {},
   "outputs": [
    {
     "data": {
      "text/plain": [
       "array([0, 1, 2, 3, 4, 5, 6, 7, 8, 9])"
      ]
     },
     "execution_count": 31,
     "metadata": {},
     "output_type": "execute_result"
    }
   ],
   "source": [
    "arr"
   ]
  },
  {
   "cell_type": "code",
   "execution_count": 32,
   "id": "e4c1eea9-60ae-498f-9214-0a03563ca8d9",
   "metadata": {},
   "outputs": [],
   "source": [
    "arr[4]=2"
   ]
  },
  {
   "cell_type": "code",
   "execution_count": 33,
   "id": "c1441752-5a00-4232-b79c-bf5a1a9697ba",
   "metadata": {},
   "outputs": [
    {
     "data": {
      "text/plain": [
       "array([0, 1, 2, 3, 2, 5, 6, 7, 8, 9])"
      ]
     },
     "execution_count": 33,
     "metadata": {},
     "output_type": "execute_result"
    }
   ],
   "source": [
    "arr"
   ]
  },
  {
   "cell_type": "code",
   "execution_count": 34,
   "id": "1b58c001-4df5-4615-8ce4-29cc254dc8a0",
   "metadata": {},
   "outputs": [],
   "source": [
    "arr[:] = 64"
   ]
  },
  {
   "cell_type": "code",
   "execution_count": 35,
   "id": "c2fdae93-b277-49b9-895c-84e0ca9af97e",
   "metadata": {},
   "outputs": [
    {
     "data": {
      "text/plain": [
       "array([64, 64, 64, 64, 64, 64, 64, 64, 64, 64])"
      ]
     },
     "execution_count": 35,
     "metadata": {},
     "output_type": "execute_result"
    }
   ],
   "source": [
    "arr"
   ]
  },
  {
   "cell_type": "code",
   "execution_count": 36,
   "id": "22fd41b2-8899-4a9e-aad1-c8c260be8f46",
   "metadata": {},
   "outputs": [
    {
     "data": {
      "text/plain": [
       "np.int64(5)"
      ]
     },
     "execution_count": 36,
     "metadata": {},
     "output_type": "execute_result"
    }
   ],
   "source": [
    "arr2d = np.array([[3,4,5,6],[2,3,4,5]])\n",
    "arr2d[0,2]"
   ]
  },
  {
   "cell_type": "code",
   "execution_count": 37,
   "id": "3ed8616c-f97c-4c96-8d64-27642e155ec0",
   "metadata": {},
   "outputs": [
    {
     "data": {
      "text/plain": [
       "np.int64(5)"
      ]
     },
     "execution_count": 37,
     "metadata": {},
     "output_type": "execute_result"
    }
   ],
   "source": [
    "arr2d[0][2]"
   ]
  },
  {
   "cell_type": "code",
   "execution_count": 38,
   "id": "110e1afa-39a3-4a16-a4d7-d756aba1c180",
   "metadata": {},
   "outputs": [],
   "source": [
    "arr3d = np.array([[[3,4,5,2],[5,6,7,4]],[[3,4,5,5],[3,3,3,3]]])"
   ]
  },
  {
   "cell_type": "code",
   "execution_count": 39,
   "id": "52b0962f-a4c9-4890-8484-51cb140a1bf6",
   "metadata": {},
   "outputs": [
    {
     "data": {
      "text/plain": [
       "np.int64(7)"
      ]
     },
     "execution_count": 39,
     "metadata": {},
     "output_type": "execute_result"
    }
   ],
   "source": [
    "arr3d[0,1,2]"
   ]
  },
  {
   "cell_type": "code",
   "execution_count": 40,
   "id": "185bc12b-6b92-4d26-95fd-2d2a238a19d9",
   "metadata": {},
   "outputs": [],
   "source": [
    "old = arr3d[0].copy()   #if you assigned the value directly so it take address directly\n",
    "#then if we change the value of old so arr3d also change"
   ]
  },
  {
   "cell_type": "code",
   "execution_count": 41,
   "id": "ddbf752f-4002-47e1-8d4e-6e856f0819c0",
   "metadata": {},
   "outputs": [],
   "source": [
    "old[1,2]=3\n"
   ]
  },
  {
   "cell_type": "code",
   "execution_count": 42,
   "id": "1ae29d38-6c1e-4540-90f9-fa61928220bb",
   "metadata": {},
   "outputs": [
    {
     "data": {
      "text/plain": [
       "array([[[3, 4, 5, 2],\n",
       "        [5, 6, 7, 4]],\n",
       "\n",
       "       [[3, 4, 5, 5],\n",
       "        [3, 3, 3, 3]]])"
      ]
     },
     "execution_count": 42,
     "metadata": {},
     "output_type": "execute_result"
    }
   ],
   "source": [
    "arr3d"
   ]
  },
  {
   "cell_type": "code",
   "execution_count": 43,
   "id": "6e405085-093e-48b0-b3c9-805ef6db3328",
   "metadata": {},
   "outputs": [],
   "source": [
    "array2d = np.array([[3, 4, 5, 6],[3, 5, 5,7],[3, 5, 6,7 ]])"
   ]
  },
  {
   "cell_type": "code",
   "execution_count": 44,
   "id": "3c24c876-7003-4eb7-8cba-7ae5bce7595d",
   "metadata": {},
   "outputs": [
    {
     "data": {
      "text/plain": [
       "array([[3, 4, 5, 6],\n",
       "       [3, 5, 5, 7],\n",
       "       [3, 5, 6, 7]])"
      ]
     },
     "execution_count": 44,
     "metadata": {},
     "output_type": "execute_result"
    }
   ],
   "source": [
    "array2d"
   ]
  },
  {
   "cell_type": "code",
   "execution_count": 45,
   "id": "49586866-edc4-4aa8-bfff-0a7f573a2f1d",
   "metadata": {},
   "outputs": [
    {
     "data": {
      "text/plain": [
       "array([[5],\n",
       "       [5]])"
      ]
     },
     "execution_count": 45,
     "metadata": {},
     "output_type": "execute_result"
    }
   ],
   "source": [
    "array2d[1:3, 1:2]"
   ]
  },
  {
   "cell_type": "code",
   "execution_count": 46,
   "id": "d4da3ba2-0371-4e3e-948c-dbbdc0352eed",
   "metadata": {},
   "outputs": [
    {
     "data": {
      "text/plain": [
       "array([[5, 5, 7],\n",
       "       [5, 6, 7]])"
      ]
     },
     "execution_count": 46,
     "metadata": {},
     "output_type": "execute_result"
    }
   ],
   "source": [
    "array2d[1:3,1:4]"
   ]
  },
  {
   "cell_type": "markdown",
   "id": "da70de28-a7a7-4232-a29a-4a8ae81c2a39",
   "metadata": {},
   "source": [
    "# Bollean indexing"
   ]
  },
  {
   "cell_type": "code",
   "execution_count": 47,
   "id": "61e731c2-a941-4fe2-bf70-bb2251f92e18",
   "metadata": {},
   "outputs": [],
   "source": [
    "array = np.array(['bob', 'alice', 'jaguar', 'bob', 'bob', 'james'])"
   ]
  },
  {
   "cell_type": "code",
   "execution_count": 48,
   "id": "c4cb1f2b-2fb8-436d-90ad-df7c1841ab07",
   "metadata": {},
   "outputs": [],
   "source": [
    "data = np.array([[3,4],[2,4],[1,3], [7,8], [3,9],[5,6]])"
   ]
  },
  {
   "cell_type": "code",
   "execution_count": 49,
   "id": "b335ac9e-1a05-4461-8d79-a53ecf782562",
   "metadata": {},
   "outputs": [
    {
     "data": {
      "text/plain": [
       "array([ True, False, False,  True,  True, False])"
      ]
     },
     "execution_count": 49,
     "metadata": {},
     "output_type": "execute_result"
    }
   ],
   "source": [
    "#bollean indexing :- we say that it is the filtering\n",
    "array == 'bob'"
   ]
  },
  {
   "cell_type": "code",
   "execution_count": 50,
   "id": "fb1f3f0b-92c6-4709-aef4-33185d29b6b3",
   "metadata": {},
   "outputs": [
    {
     "data": {
      "text/plain": [
       "True"
      ]
     },
     "execution_count": 50,
     "metadata": {},
     "output_type": "execute_result"
    }
   ],
   "source": [
    "5 in data"
   ]
  },
  {
   "cell_type": "code",
   "execution_count": 51,
   "id": "c4009fb3-1c7a-4082-accd-36a67e63f5da",
   "metadata": {},
   "outputs": [
    {
     "data": {
      "text/plain": [
       "True"
      ]
     },
     "execution_count": 51,
     "metadata": {},
     "output_type": "execute_result"
    }
   ],
   "source": [
    "9 in data"
   ]
  },
  {
   "cell_type": "code",
   "execution_count": 52,
   "id": "f6780c2d-a2b6-4145-9ec6-01ee55968cfa",
   "metadata": {},
   "outputs": [
    {
     "data": {
      "text/plain": [
       "array([[3, 4],\n",
       "       [7, 8],\n",
       "       [3, 9]])"
      ]
     },
     "execution_count": 52,
     "metadata": {},
     "output_type": "execute_result"
    }
   ],
   "source": [
    "data[array=='bob']        #newly thing"
   ]
  },
  {
   "cell_type": "code",
   "execution_count": 53,
   "id": "57efdce5-fe5d-4b5a-af85-26e06e5ac7a9",
   "metadata": {},
   "outputs": [
    {
     "data": {
      "text/plain": [
       "array([[3],\n",
       "       [7],\n",
       "       [3]])"
      ]
     },
     "execution_count": 53,
     "metadata": {},
     "output_type": "execute_result"
    }
   ],
   "source": [
    "data[array == 'bob', :1]"
   ]
  },
  {
   "cell_type": "code",
   "execution_count": 54,
   "id": "267da6f7-f78a-4edb-a10b-7bbdd112f73b",
   "metadata": {},
   "outputs": [
    {
     "data": {
      "text/plain": [
       "array([False,  True,  True, False, False,  True])"
      ]
     },
     "execution_count": 54,
     "metadata": {},
     "output_type": "execute_result"
    }
   ],
   "source": [
    "~(array == 'bob')"
   ]
  },
  {
   "cell_type": "markdown",
   "id": "e4a60116-2dfe-4016-8477-9e309472ba58",
   "metadata": {},
   "source": [
    "# Fancy indexing"
   ]
  },
  {
   "cell_type": "code",
   "execution_count": 55,
   "id": "3ace0ed5-aba4-4dae-81e3-91c6abc5b487",
   "metadata": {},
   "outputs": [],
   "source": [
    "arr = np.zeros((8, 4))"
   ]
  },
  {
   "cell_type": "code",
   "execution_count": 56,
   "id": "4a931792-66da-4746-be26-22a654b5df96",
   "metadata": {},
   "outputs": [
    {
     "data": {
      "text/plain": [
       "array([0., 0., 0., 0.])"
      ]
     },
     "execution_count": 56,
     "metadata": {},
     "output_type": "execute_result"
    }
   ],
   "source": [
    "arr[1]"
   ]
  },
  {
   "cell_type": "code",
   "execution_count": 57,
   "id": "c82f4c48-a253-43df-8d7c-85b5f8282bc6",
   "metadata": {},
   "outputs": [],
   "source": [
    "for i in range(8):\n",
    "    arr[i] = i+1"
   ]
  },
  {
   "cell_type": "code",
   "execution_count": 58,
   "id": "6ffc2838-3635-4149-955f-c2f3b535611a",
   "metadata": {},
   "outputs": [
    {
     "data": {
      "text/plain": [
       "array([[1., 1., 1., 1.],\n",
       "       [2., 2., 2., 2.],\n",
       "       [3., 3., 3., 3.],\n",
       "       [4., 4., 4., 4.],\n",
       "       [5., 5., 5., 5.],\n",
       "       [6., 6., 6., 6.],\n",
       "       [7., 7., 7., 7.],\n",
       "       [8., 8., 8., 8.]])"
      ]
     },
     "execution_count": 58,
     "metadata": {},
     "output_type": "execute_result"
    }
   ],
   "source": [
    "arr"
   ]
  },
  {
   "cell_type": "code",
   "execution_count": 59,
   "id": "c33e0f04-d5c9-4852-b8bb-4cd75a458862",
   "metadata": {},
   "outputs": [
    {
     "data": {
      "text/plain": [
       "array([[2., 2., 2., 2.],\n",
       "       [4., 4., 4., 4.],\n",
       "       [6., 6., 6., 6.],\n",
       "       [8., 8., 8., 8.]])"
      ]
     },
     "execution_count": 59,
     "metadata": {},
     "output_type": "execute_result"
    }
   ],
   "source": [
    "#you can pass row number of element as list\n",
    "arr[[1, 3, 5, 7]]"
   ]
  },
  {
   "cell_type": "code",
   "execution_count": 60,
   "id": "6ffca341-db9b-4c22-a0e5-bd8f2a184481",
   "metadata": {},
   "outputs": [
    {
     "data": {
      "text/plain": [
       "array([2., 6., 8., 3.])"
      ]
     },
     "execution_count": 60,
     "metadata": {},
     "output_type": "execute_result"
    }
   ],
   "source": [
    "arr[[1, 5, 7, 2], [0, 3, 1, 2]]"
   ]
  },
  {
   "cell_type": "code",
   "execution_count": 61,
   "id": "48caf632-4ef7-4903-8be7-3e226355f15c",
   "metadata": {},
   "outputs": [
    {
     "data": {
      "text/plain": [
       "array([[6., 6., 6., 6.],\n",
       "       [4., 4., 4., 4.],\n",
       "       [2., 2., 2., 2.]])"
      ]
     },
     "execution_count": 61,
     "metadata": {},
     "output_type": "execute_result"
    }
   ],
   "source": [
    "arr[[-3, -5, -7]]                # negative indexing"
   ]
  },
  {
   "cell_type": "code",
   "execution_count": 62,
   "id": "2fef3cff-ae03-4a66-83f5-9a78e54112da",
   "metadata": {},
   "outputs": [
    {
     "data": {
      "text/plain": [
       "array([[0, 1, 2, 3],\n",
       "       [4, 5, 6, 7]])"
      ]
     },
     "execution_count": 62,
     "metadata": {},
     "output_type": "execute_result"
    }
   ],
   "source": [
    "np.arange(8).reshape(2,4)"
   ]
  },
  {
   "cell_type": "code",
   "execution_count": 63,
   "id": "9103348e-db40-4738-a63d-eb29432fe840",
   "metadata": {},
   "outputs": [],
   "source": [
    "arr = np.array([[2,4],[5,6],[6,7]])"
   ]
  },
  {
   "cell_type": "code",
   "execution_count": 64,
   "id": "69a05ffc-ceb7-44b7-a1dc-d8fa3e0cb86f",
   "metadata": {},
   "outputs": [
    {
     "data": {
      "text/plain": [
       "array([[ 65,  80],\n",
       "       [ 80, 101]])"
      ]
     },
     "execution_count": 64,
     "metadata": {},
     "output_type": "execute_result"
    }
   ],
   "source": [
    "np.dot(arr.T, arr) #Matrix multiplication"
   ]
  },
  {
   "cell_type": "code",
   "execution_count": 65,
   "id": "e3576504-55ba-4a75-be0b-b97f327553c5",
   "metadata": {},
   "outputs": [
    {
     "data": {
      "text/plain": [
       "array([[ 65,  80],\n",
       "       [ 80, 101]])"
      ]
     },
     "execution_count": 65,
     "metadata": {},
     "output_type": "execute_result"
    }
   ],
   "source": [
    "arr.T @ arr          # Another method to matrix multiplication"
   ]
  },
  {
   "cell_type": "markdown",
   "id": "624ee7a4-195f-4f9f-9b28-7eb8dada0c80",
   "metadata": {},
   "source": [
    "# Random generation"
   ]
  },
  {
   "cell_type": "code",
   "execution_count": 66,
   "id": "2dfc60d4-3584-44b4-b6c5-73aded5cb07e",
   "metadata": {},
   "outputs": [],
   "source": [
    "samples = np.random.standard_normal(size=(4,4))"
   ]
  },
  {
   "cell_type": "code",
   "execution_count": 67,
   "id": "56c0bae4-2526-494f-b565-2fcf27474e1f",
   "metadata": {},
   "outputs": [
    {
     "data": {
      "text/plain": [
       "array([[-1.05016559,  0.79576875,  0.6245115 , -0.66948703],\n",
       "       [-0.31336112, -0.73445973,  1.50946376, -0.77716474],\n",
       "       [-0.79553442,  0.90466747, -0.1720492 , -1.18684391],\n",
       "       [-0.20746784, -0.86249792,  1.66880549, -1.75546928]])"
      ]
     },
     "execution_count": 67,
     "metadata": {},
     "output_type": "execute_result"
    }
   ],
   "source": [
    "samples"
   ]
  },
  {
   "cell_type": "code",
   "execution_count": 68,
   "id": "5e98c172-c988-428c-914e-10a238930b26",
   "metadata": {},
   "outputs": [],
   "source": [
    "rnd = np.random.default_rng(seed=12345)"
   ]
  },
  {
   "cell_type": "code",
   "execution_count": 69,
   "id": "06f36dec-1d39-4f05-afd3-4c6e265621b5",
   "metadata": {},
   "outputs": [],
   "source": [
    "sample2 = rnd.standard_normal(size=(2,2))"
   ]
  },
  {
   "cell_type": "code",
   "execution_count": 70,
   "id": "ec51aa39-0228-437f-b2ea-6baa8e660d94",
   "metadata": {},
   "outputs": [
    {
     "data": {
      "text/plain": [
       "array([[-1.42382504,  1.26372846],\n",
       "       [-0.87066174, -0.25917323]])"
      ]
     },
     "execution_count": 70,
     "metadata": {},
     "output_type": "execute_result"
    }
   ],
   "source": [
    "sample2"
   ]
  },
  {
   "cell_type": "code",
   "execution_count": 71,
   "id": "b7bbd076-6d41-4af0-a6df-e2806c5091aa",
   "metadata": {},
   "outputs": [
    {
     "data": {
      "text/plain": [
       "numpy.random._generator.Generator"
      ]
     },
     "execution_count": 71,
     "metadata": {},
     "output_type": "execute_result"
    }
   ],
   "source": [
    "type(rnd)"
   ]
  },
  {
   "cell_type": "code",
   "execution_count": 72,
   "id": "92b2def6-e8ba-444b-8ea3-2ff4d54b29d8",
   "metadata": {},
   "outputs": [],
   "source": [
    "sample3 = np.random.chisquare(20,45)"
   ]
  },
  {
   "cell_type": "code",
   "execution_count": 73,
   "id": "2180f939-4993-43db-b8bd-d8e9aaa20a5a",
   "metadata": {},
   "outputs": [
    {
     "data": {
      "text/plain": [
       "array([14.60546484, 14.88920973, 12.03992354, 19.40271567, 33.33643129,\n",
       "       18.3273171 , 18.64097693, 20.12209545, 20.10316145, 31.07830526,\n",
       "       20.86615864, 22.95623956, 30.5393399 , 11.59857307, 17.5864428 ,\n",
       "       23.57862381, 23.62073659, 17.08669091, 16.78352749,  8.90318007,\n",
       "       17.42139914, 19.28455171, 11.89797794, 21.91474602, 15.53395645,\n",
       "       14.23425239, 25.15687045, 19.04370805, 13.9546747 , 20.91268478,\n",
       "       19.53414857, 15.16596335, 19.85832533, 20.59533911, 23.56810327,\n",
       "       18.1650206 , 24.23919684, 13.27493074, 27.26327023, 32.85129058,\n",
       "       26.51078421, 21.558432  , 18.4792602 , 22.24466114, 21.39363157])"
      ]
     },
     "execution_count": 73,
     "metadata": {},
     "output_type": "execute_result"
    }
   ],
   "source": [
    "sample3"
   ]
  },
  {
   "cell_type": "markdown",
   "id": "804b3405-2875-408d-86b7-25ac26b029f6",
   "metadata": {},
   "source": [
    "# Universal function "
   ]
  },
  {
   "cell_type": "code",
   "execution_count": 74,
   "id": "ece5ecaa-38a9-4ce5-b01b-3ec4f6af44e9",
   "metadata": {},
   "outputs": [],
   "source": [
    "uniarray = np.arange(10)"
   ]
  },
  {
   "cell_type": "code",
   "execution_count": 75,
   "id": "222e9f30-928a-484f-8090-cbdd87969dde",
   "metadata": {},
   "outputs": [
    {
     "data": {
      "text/plain": [
       "array([0.        , 1.        , 1.41421356, 1.73205081, 2.        ,\n",
       "       2.23606798, 2.44948974, 2.64575131, 2.82842712, 3.        ])"
      ]
     },
     "execution_count": 75,
     "metadata": {},
     "output_type": "execute_result"
    }
   ],
   "source": [
    "np.sqrt(uniarray)"
   ]
  },
  {
   "cell_type": "code",
   "execution_count": 76,
   "id": "53a1356d-af08-4c7d-9d90-a033b4991a0e",
   "metadata": {},
   "outputs": [
    {
     "data": {
      "text/plain": [
       "array([1.00000000e+00, 2.71828183e+00, 7.38905610e+00, 2.00855369e+01,\n",
       "       5.45981500e+01, 1.48413159e+02, 4.03428793e+02, 1.09663316e+03,\n",
       "       2.98095799e+03, 8.10308393e+03])"
      ]
     },
     "execution_count": 76,
     "metadata": {},
     "output_type": "execute_result"
    }
   ],
   "source": [
    "np.exp(uniarray)"
   ]
  },
  {
   "cell_type": "markdown",
   "id": "2a4f19fd-0a72-4e94-baf4-64f25741c74b",
   "metadata": {},
   "source": [
    "/* maximum and minimum also take two function and return a single array"
   ]
  },
  {
   "cell_type": "code",
   "execution_count": 77,
   "id": "b01e148e-3d57-4407-833d-248d2998648d",
   "metadata": {},
   "outputs": [
    {
     "data": {
      "text/plain": [
       "array([[ 2,  4,  5,  6,  3],\n",
       "       [ 2, 45,  7,  4,  3]])"
      ]
     },
     "execution_count": 77,
     "metadata": {},
     "output_type": "execute_result"
    }
   ],
   "source": [
    "np.maximum(array1, array1)"
   ]
  },
  {
   "cell_type": "code",
   "execution_count": 78,
   "id": "09bf37c1-c0cc-4a30-b621-634e24ab68b3",
   "metadata": {},
   "outputs": [],
   "source": [
    "arr = rnd.standard_normal(7)"
   ]
  },
  {
   "cell_type": "code",
   "execution_count": 79,
   "id": "139ec760-d7a9-4141-9a28-8a6991f5b559",
   "metadata": {},
   "outputs": [
    {
     "data": {
      "text/plain": [
       "array([-0.07534331, -0.74088465, -1.3677927 ,  0.6488928 ,  0.36105811,\n",
       "       -1.95286306,  2.34740965])"
      ]
     },
     "execution_count": 79,
     "metadata": {},
     "output_type": "execute_result"
    }
   ],
   "source": [
    "arr"
   ]
  },
  {
   "cell_type": "code",
   "execution_count": 80,
   "id": "33b2e20f-20a4-40b7-903b-3f6013884c74",
   "metadata": {},
   "outputs": [],
   "source": [
    "arr = arr*5"
   ]
  },
  {
   "cell_type": "code",
   "execution_count": 81,
   "id": "4da8ddc9-873c-426d-9c1c-d120b425ba4f",
   "metadata": {},
   "outputs": [
    {
     "data": {
      "text/plain": [
       "array([-0.37671654, -3.70442326, -6.83896351,  3.24446401,  1.80529057,\n",
       "       -9.76431532, 11.73704827])"
      ]
     },
     "execution_count": 81,
     "metadata": {},
     "output_type": "execute_result"
    }
   ],
   "source": [
    "arr"
   ]
  },
  {
   "cell_type": "code",
   "execution_count": 82,
   "id": "8a2eb008-b68c-4d01-8725-2d7e3f69ebde",
   "metadata": {},
   "outputs": [],
   "source": [
    "remainder, whole_part = np.modf(arr)   #It is used to sepreate a point part and the whole part"
   ]
  },
  {
   "cell_type": "code",
   "execution_count": 83,
   "id": "dc5705fe-b01a-4ef7-898e-b88559594586",
   "metadata": {},
   "outputs": [
    {
     "data": {
      "text/plain": [
       "array([-0.37671654, -0.70442326, -0.83896351,  0.24446401,  0.80529057,\n",
       "       -0.76431532,  0.73704827])"
      ]
     },
     "execution_count": 83,
     "metadata": {},
     "output_type": "execute_result"
    }
   ],
   "source": [
    "remainder"
   ]
  },
  {
   "cell_type": "code",
   "execution_count": 84,
   "id": "d6edaf7f-f91f-4fa7-a64f-095c34a0458f",
   "metadata": {},
   "outputs": [
    {
     "data": {
      "text/plain": [
       "array([-0., -3., -6.,  3.,  1., -9., 11.])"
      ]
     },
     "execution_count": 84,
     "metadata": {},
     "output_type": "execute_result"
    }
   ],
   "source": [
    "whole_part"
   ]
  },
  {
   "cell_type": "code",
   "execution_count": 85,
   "id": "15e6dab5-b4e8-403b-b82f-1997e9a03858",
   "metadata": {},
   "outputs": [
    {
     "data": {
      "text/plain": [
       "array([ 0.62328346, -2.70442326, -5.83896351,  4.24446401,  2.80529057,\n",
       "       -8.76431532, 12.73704827])"
      ]
     },
     "execution_count": 85,
     "metadata": {},
     "output_type": "execute_result"
    }
   ],
   "source": [
    "np.add(arr, 1)"
   ]
  },
  {
   "cell_type": "code",
   "execution_count": 86,
   "id": "3f87d41d-3f7c-4c22-9707-2fbcbbf3d4ce",
   "metadata": {},
   "outputs": [],
   "source": [
    "points = np.arange(-5, 5, 0.01)"
   ]
  },
  {
   "cell_type": "code",
   "execution_count": 87,
   "id": "fb8f4e88-5eee-4d95-8b3e-dd3205b13cae",
   "metadata": {},
   "outputs": [],
   "source": [
    "xs, ys = np.meshgrid(points, points)   #The numpy.meshgrid function takes two one-dimensional arrays and produces two two-dimensional matrices corresponding to all pairs of (x, y) in the two arrays:"
   ]
  },
  {
   "cell_type": "code",
   "execution_count": 88,
   "id": "85e3f631-caac-4c4b-b4f1-4a446665a5fa",
   "metadata": {},
   "outputs": [],
   "source": [
    "z = np.sqrt(xs ** 2 + ys ** 2)"
   ]
  },
  {
   "cell_type": "code",
   "execution_count": 89,
   "id": "51fd6370-9067-4d21-b3c3-21ae5bfd19f4",
   "metadata": {},
   "outputs": [
    {
     "data": {
      "text/plain": [
       "array([[7.07106781, 7.06400028, 7.05693985, ..., 7.04988652, 7.05693985,\n",
       "        7.06400028],\n",
       "       [7.06400028, 7.05692568, 7.04985815, ..., 7.04279774, 7.04985815,\n",
       "        7.05692568],\n",
       "       [7.05693985, 7.04985815, 7.04278354, ..., 7.03571603, 7.04278354,\n",
       "        7.04985815],\n",
       "       ...,\n",
       "       [7.04988652, 7.04279774, 7.03571603, ..., 7.0286414 , 7.03571603,\n",
       "        7.04279774],\n",
       "       [7.05693985, 7.04985815, 7.04278354, ..., 7.03571603, 7.04278354,\n",
       "        7.04985815],\n",
       "       [7.06400028, 7.05692568, 7.04985815, ..., 7.04279774, 7.04985815,\n",
       "        7.05692568]])"
      ]
     },
     "execution_count": 89,
     "metadata": {},
     "output_type": "execute_result"
    }
   ],
   "source": [
    "z"
   ]
  },
  {
   "cell_type": "code",
   "execution_count": 90,
   "id": "8346a9b4-e4ed-4e9e-a7d5-66b71308541a",
   "metadata": {},
   "outputs": [],
   "source": [
    "xarr = np.array([1.1, 1.2, 1.3, 1.4, 1.5])\n",
    "yarr = np.array([2.2, 2.3, 2.4, 2.5, 2.6])\n",
    "cond = np.array([True, False, True, True, False])"
   ]
  },
  {
   "cell_type": "code",
   "execution_count": 91,
   "id": "1a2bbf5f-6644-4d1e-8771-a35b1bcbf3f9",
   "metadata": {},
   "outputs": [],
   "source": [
    "result = [x if c else y for x, y, c in zip(xarr, yarr, cond)]"
   ]
  },
  {
   "cell_type": "code",
   "execution_count": 92,
   "id": "ffe79dc5-8184-4977-a3a0-e5ccb7754191",
   "metadata": {},
   "outputs": [
    {
     "data": {
      "text/plain": [
       "[np.float64(1.1),\n",
       " np.float64(2.3),\n",
       " np.float64(1.3),\n",
       " np.float64(1.4),\n",
       " np.float64(2.6)]"
      ]
     },
     "execution_count": 92,
     "metadata": {},
     "output_type": "execute_result"
    }
   ],
   "source": [
    "result"
   ]
  },
  {
   "cell_type": "code",
   "execution_count": 93,
   "id": "12d7dc0f-7549-43dc-b79c-1d2cc6ed9094",
   "metadata": {},
   "outputs": [
    {
     "data": {
      "text/plain": [
       "array([1.1, 2.3, 1.3, 1.4, 2.6])"
      ]
     },
     "execution_count": 93,
     "metadata": {},
     "output_type": "execute_result"
    }
   ],
   "source": [
    "#Do This work by the single call\n",
    "np.where(cond, xarr, yarr)"
   ]
  },
  {
   "cell_type": "code",
   "execution_count": 94,
   "id": "008cac8e-0200-48d0-b7dd-6fd49bebaae6",
   "metadata": {},
   "outputs": [],
   "source": [
    "result.sort()"
   ]
  },
  {
   "cell_type": "code",
   "execution_count": 95,
   "id": "5ba46e48-a87b-4a8a-868e-d7a20651d707",
   "metadata": {
    "scrolled": true
   },
   "outputs": [
    {
     "ename": "TypeError",
     "evalue": "'axis' is an invalid keyword argument for sort()",
     "output_type": "error",
     "traceback": [
      "\u001b[0;31m---------------------------------------------------------------------------\u001b[0m",
      "\u001b[0;31mTypeError\u001b[0m                                 Traceback (most recent call last)",
      "Cell \u001b[0;32mIn[95], line 1\u001b[0m\n\u001b[0;32m----> 1\u001b[0m \u001b[43mresult\u001b[49m\u001b[38;5;241;43m.\u001b[39;49m\u001b[43msort\u001b[49m\u001b[43m(\u001b[49m\u001b[43maxis\u001b[49m\u001b[38;5;241;43m=\u001b[39;49m\u001b[38;5;241;43m0\u001b[39;49m\u001b[43m)\u001b[49m\n",
      "\u001b[0;31mTypeError\u001b[0m: 'axis' is an invalid keyword argument for sort()"
     ]
    }
   ],
   "source": [
    "result.sort(axis=0)"
   ]
  },
  {
   "cell_type": "code",
   "execution_count": null,
   "id": "3340bddd-0c2c-4d4a-a915-96089015f789",
   "metadata": {},
   "outputs": [],
   "source": [
    "result"
   ]
  },
  {
   "cell_type": "code",
   "execution_count": null,
   "id": "12d94858-7158-46cf-a593-a1b26e9f501f",
   "metadata": {},
   "outputs": [],
   "source": [
    "#Suposse we have a randomize matrix Where negative integer can be replace by the 2 and -2\n",
    "rand = np.random.standard_normal((4,4))"
   ]
  },
  {
   "cell_type": "code",
   "execution_count": null,
   "id": "9194e3db-33a9-4008-bddd-6cd177fa5f60",
   "metadata": {},
   "outputs": [],
   "source": [
    "np.where(rand > 0, 2, -2)"
   ]
  },
  {
   "cell_type": "markdown",
   "id": "df9c5c8f-2962-4682-a93d-56284190ecd9",
   "metadata": {},
   "source": [
    "# Statistical method"
   ]
  },
  {
   "cell_type": "code",
   "execution_count": null,
   "id": "87fe915e-df26-47d0-a3ee-72bcea27b2a2",
   "metadata": {},
   "outputs": [],
   "source": [
    "arr = np.random.standard_normal((3,4))"
   ]
  },
  {
   "cell_type": "code",
   "execution_count": null,
   "id": "0edefe6e-d324-43b0-bda1-1eefbb3ec05c",
   "metadata": {},
   "outputs": [],
   "source": [
    "np.mean(arr)"
   ]
  },
  {
   "cell_type": "code",
   "execution_count": null,
   "id": "7e8952c2-54d5-4f95-8d66-683a2e5cf6a6",
   "metadata": {},
   "outputs": [],
   "source": [
    "arr.mean()"
   ]
  },
  {
   "cell_type": "code",
   "execution_count": null,
   "id": "9569f5d8-efdb-42f2-b939-1d06c7d8cc1d",
   "metadata": {},
   "outputs": [],
   "source": [
    "arr.sum()"
   ]
  },
  {
   "cell_type": "code",
   "execution_count": null,
   "id": "ad426b26-e645-4796-8170-c103a7246931",
   "metadata": {},
   "outputs": [],
   "source": [
    "arr.sum(axis=0)"
   ]
  },
  {
   "cell_type": "code",
   "execution_count": null,
   "id": "a0e32b48-58cb-4f7b-896f-aa3f94c26852",
   "metadata": {},
   "outputs": [],
   "source": [
    "#axis = 0 means perform operation row wise and 1 mean perform operation column wise"
   ]
  },
  {
   "cell_type": "code",
   "execution_count": null,
   "id": "39e280c4-80c0-4ba4-8e88-986ee921bd05",
   "metadata": {},
   "outputs": [],
   "source": [
    "arr.cumsum()"
   ]
  },
  {
   "cell_type": "code",
   "execution_count": null,
   "id": "c8c8efa4-ba2e-45f4-af52-e906a24f3200",
   "metadata": {},
   "outputs": [],
   "source": [
    "arr"
   ]
  },
  {
   "cell_type": "markdown",
   "id": "5098ae2d-9081-40c0-965c-c66cbe531fa0",
   "metadata": {},
   "source": [
    "# Boolean array statistical operation"
   ]
  },
  {
   "cell_type": "code",
   "execution_count": null,
   "id": "5306b237-a400-44a1-8888-7b0c499e1483",
   "metadata": {},
   "outputs": [],
   "source": [
    "(arr>0).sum()"
   ]
  },
  {
   "cell_type": "code",
   "execution_count": null,
   "id": "3e53de09-c19c-48f1-a697-f9f1cb6c6a3d",
   "metadata": {},
   "outputs": [],
   "source": [
    "#Two method are also useful that \n",
    "#1.any :- check that the any value is true in array\n",
    "#2.all :- check that the all value is true or not\n",
    "arr1 = np.array([True, False, True, True])\n",
    "arr1.any()\n",
    "arr1.all()"
   ]
  },
  {
   "cell_type": "code",
   "execution_count": null,
   "id": "4633c222-4250-4fde-bc2c-e8972ef0c5c5",
   "metadata": {},
   "outputs": [],
   "source": [
    "arr1.any()"
   ]
  },
  {
   "cell_type": "code",
   "execution_count": 96,
   "id": "3a4cc6d0-f903-46ff-bb88-10e13dc9c3b5",
   "metadata": {},
   "outputs": [
    {
     "data": {
      "text/plain": [
       "array(['Bob', 'Ram', 'Will', 'love'], dtype='<U4')"
      ]
     },
     "execution_count": 96,
     "metadata": {},
     "output_type": "execute_result"
    }
   ],
   "source": [
    "name = np.array(['Bob', 'Bob', 'Will', 'Will', 'Ram', 'Ram', 'love'])\n",
    "np.unique(name)   #It is use to sort the unique value"
   ]
  },
  {
   "cell_type": "code",
   "execution_count": 99,
   "id": "f2ce69e2-9e62-43ab-8fed-42ccdb32526a",
   "metadata": {},
   "outputs": [
    {
     "name": "stderr",
     "output_type": "stream",
     "text": [
      "/tmp/ipykernel_2270/2931275250.py:3: DeprecationWarning: `in1d` is deprecated. Use `np.isin` instead.\n",
      "  np.in1d(my_array, [3, 5, 2])\n"
     ]
    },
    {
     "data": {
      "text/plain": [
       "array([ True,  True, False, False,  True,  True, False,  True, False,\n",
       "       False])"
      ]
     },
     "execution_count": 99,
     "metadata": {},
     "output_type": "execute_result"
    }
   ],
   "source": [
    "#numpy.in1d is used as a membership operator\n",
    "my_array = np.array([3, 5, 66, 7, 3, 2, 7, 2, 4, 0])\n",
    "np.in1d(my_array, [3, 5, 2])"
   ]
  },
  {
   "cell_type": "markdown",
   "id": "702e61b6-085d-4d23-87e1-47b54dc07671",
   "metadata": {},
   "source": [
    "# File input and output with array"
   ]
  },
  {
   "cell_type": "code",
   "execution_count": 101,
   "id": "4f9b9741-c1db-4c30-b190-905acf2609be",
   "metadata": {},
   "outputs": [],
   "source": [
    "#Two main function for save and load file into disk np.save and np.load\n",
    "arr = np.array([3,5, 7, 8,3, 6, 4, 23])\n",
    "np.save(\"array_file\", arr)"
   ]
  },
  {
   "cell_type": "code",
   "execution_count": 102,
   "id": "2a735a06-f695-48f7-a463-b0b5c4272f7b",
   "metadata": {},
   "outputs": [
    {
     "data": {
      "text/plain": [
       "array([ 3,  5,  7,  8,  3,  6,  4, 23])"
      ]
     },
     "execution_count": 102,
     "metadata": {},
     "output_type": "execute_result"
    }
   ],
   "source": [
    "arr"
   ]
  },
  {
   "cell_type": "code",
   "execution_count": 103,
   "id": "defa514d-db15-4321-9895-107b012db479",
   "metadata": {},
   "outputs": [
    {
     "data": {
      "text/plain": [
       "array([ 3,  5,  7,  8,  3,  6,  4, 23])"
      ]
     },
     "execution_count": 103,
     "metadata": {},
     "output_type": "execute_result"
    }
   ],
   "source": [
    "np.load(\"array_file.npy\")"
   ]
  },
  {
   "cell_type": "markdown",
   "id": "bf627865-7c33-4692-84fd-3510772fce9f",
   "metadata": {},
   "source": [
    "# Liner Algebra: Multiplication , decomposition , determinantes and other square matrix"
   ]
  },
  {
   "cell_type": "code",
   "execution_count": 105,
   "id": "4bb4956e-a6d7-4066-9a82-0bec98996cff",
   "metadata": {},
   "outputs": [],
   "source": [
    "from numpy.linalg import inv, qr"
   ]
  },
  {
   "cell_type": "code",
   "execution_count": 108,
   "id": "70c1698c-5852-40de-90a6-34b98178e336",
   "metadata": {},
   "outputs": [
    {
     "data": {
      "text/plain": [
       "array([[-0.64805493, -0.51422284,  0.27359512, -0.01531336, -0.34586168,\n",
       "        -0.0519699 ],\n",
       "       [ 1.46287823, -0.13738068, -0.58931923,  0.14168485, -0.55060335,\n",
       "         0.10398179],\n",
       "       [ 0.67191507,  0.66958376,  0.18000738, -0.71373273, -0.5759322 ,\n",
       "         0.53081991],\n",
       "       [ 2.21518529,  0.46088114, -1.31248806, -0.15367912,  0.67523494,\n",
       "        -0.95571564]])"
      ]
     },
     "execution_count": 108,
     "metadata": {},
     "output_type": "execute_result"
    }
   ],
   "source": [
    "x = np.random.standard_normal((4,6))\n",
    "x"
   ]
  },
  {
   "cell_type": "code",
   "execution_count": 109,
   "id": "e5f74ab4-3c25-4976-9b3e-30f49958d98f",
   "metadata": {},
   "outputs": [],
   "source": [
    "mat = x.T @ x"
   ]
  },
  {
   "cell_type": "code",
   "execution_count": 110,
   "id": "34c403c5-978c-4962-af7f-4f726dcfae6b",
   "metadata": {},
   "outputs": [
    {
     "data": {
      "text/plain": [
       "array([[-3.09726935e+15,  1.62389524e+15, -6.35448111e+15,\n",
       "        -6.78070256e+14, -1.78475945e+15,  1.17885592e+15],\n",
       "       [ 3.65313671e+15,  1.27026205e+15,  9.44944321e+15,\n",
       "         3.84659648e+15, -6.78393815e+14, -4.99487858e+15],\n",
       "       [-5.10944075e+15,  4.63339720e+15, -9.28353552e+15,\n",
       "         7.50797945e+14, -4.65203942e+15, -2.66799736e+14],\n",
       "       [ 1.26277714e+15,  2.38476006e+15,  4.46014706e+15,\n",
       "         3.19056607e+15, -1.93455796e+15, -3.92807003e+15],\n",
       "       [-3.55783978e+15, -9.18092426e+14, -9.00719925e+15,\n",
       "        -3.44111688e+15,  3.81936988e+14,  4.50359963e+15],\n",
       "       [-1.11719837e+15, -3.01870723e+15, -4.50359963e+15,\n",
       "        -3.69202555e+15,  2.50567496e+15,  4.50359963e+15]])"
      ]
     },
     "execution_count": 110,
     "metadata": {},
     "output_type": "execute_result"
    }
   ],
   "source": [
    "inv(mat)"
   ]
  },
  {
   "cell_type": "code",
   "execution_count": 111,
   "id": "28a58423-9608-4550-8677-c0e0c006bd14",
   "metadata": {},
   "outputs": [
    {
     "data": {
      "text/plain": [
       "array([[ 0.3534495 , -0.64686643,  3.        , -0.93751614,  0.61009355,\n",
       "        -3.        ],\n",
       "       [-0.879365  ,  0.75299945, -0.9375    , -0.17916024, -0.10751374,\n",
       "        -0.75      ],\n",
       "       [-0.68199086, -0.75399725,  4.        ,  0.64115491,  1.33217545,\n",
       "         1.        ],\n",
       "       [ 0.40882754,  0.12813753,  0.625     ,  1.47627048, -0.23279071,\n",
       "        -0.125     ],\n",
       "       [-1.04013674,  0.3410871 , -2.        , -0.53964755,  1.01189018,\n",
       "         0.5       ],\n",
       "       [-0.699524  , -0.10619239,  1.        ,  0.18166574, -0.76771411,\n",
       "         1.        ]])"
      ]
     },
     "execution_count": 111,
     "metadata": {},
     "output_type": "execute_result"
    }
   ],
   "source": [
    "mat @ inv(mat)"
   ]
  },
  {
   "cell_type": "code",
   "execution_count": 1,
   "id": "056d7c94-7e28-4751-bfe1-30b913bf0e04",
   "metadata": {},
   "outputs": [],
   "source": [
    "#Walking problem\n",
    "import random"
   ]
  },
  {
   "cell_type": "code",
   "execution_count": 3,
   "id": "ef5c7f74-9f01-4eb8-a32c-29fe9785b059",
   "metadata": {},
   "outputs": [],
   "source": [
    "position = 0 \n",
    "walk = [position]\n",
    "nsteps = 1000\n",
    "for _ in range(nsteps):\n",
    "    step = 1 if random.randint(0,1) else -1\n",
    "    position += step\n",
    "    walk.append(position)"
   ]
  },
  {
   "cell_type": "code",
   "execution_count": 4,
   "id": "d9e1b97a-f34e-412c-88da-103489c3c65e",
   "metadata": {},
   "outputs": [
    {
     "data": {
      "text/plain": [
       "[0,\n",
       " 1,\n",
       " 2,\n",
       " 3,\n",
       " 2,\n",
       " 3,\n",
       " 2,\n",
       " 3,\n",
       " 4,\n",
       " 5,\n",
       " 4,\n",
       " 3,\n",
       " 4,\n",
       " 3,\n",
       " 2,\n",
       " 1,\n",
       " 0,\n",
       " 1,\n",
       " 2,\n",
       " 3,\n",
       " 4,\n",
       " 5,\n",
       " 4,\n",
       " 3,\n",
       " 4,\n",
       " 5,\n",
       " 6,\n",
       " 7,\n",
       " 6,\n",
       " 7,\n",
       " 6,\n",
       " 7,\n",
       " 6,\n",
       " 7,\n",
       " 8,\n",
       " 7,\n",
       " 8,\n",
       " 7,\n",
       " 6,\n",
       " 5,\n",
       " 4,\n",
       " 5,\n",
       " 4,\n",
       " 5,\n",
       " 4,\n",
       " 5,\n",
       " 4,\n",
       " 3,\n",
       " 2,\n",
       " 1,\n",
       " 2,\n",
       " 3,\n",
       " 4,\n",
       " 5,\n",
       " 4,\n",
       " 3,\n",
       " 2,\n",
       " 1,\n",
       " 2,\n",
       " 3,\n",
       " 2,\n",
       " 3,\n",
       " 2,\n",
       " 3,\n",
       " 4,\n",
       " 3,\n",
       " 4,\n",
       " 3,\n",
       " 2,\n",
       " 3,\n",
       " 2,\n",
       " 3,\n",
       " 2,\n",
       " 1,\n",
       " 0,\n",
       " -1,\n",
       " 0,\n",
       " -1,\n",
       " -2,\n",
       " -1,\n",
       " -2,\n",
       " -1,\n",
       " -2,\n",
       " -3,\n",
       " -2,\n",
       " -3,\n",
       " -4,\n",
       " -5,\n",
       " -4,\n",
       " -3,\n",
       " -4,\n",
       " -3,\n",
       " -4,\n",
       " -5,\n",
       " -4,\n",
       " -3,\n",
       " -2,\n",
       " -1,\n",
       " -2,\n",
       " -1,\n",
       " -2,\n",
       " -3,\n",
       " -2,\n",
       " -1,\n",
       " -2,\n",
       " -3,\n",
       " -4,\n",
       " -5,\n",
       " -4,\n",
       " -3,\n",
       " -2,\n",
       " -1,\n",
       " 0,\n",
       " 1,\n",
       " 0,\n",
       " 1,\n",
       " 2,\n",
       " 3,\n",
       " 2,\n",
       " 1,\n",
       " 0,\n",
       " 1,\n",
       " 0,\n",
       " -1,\n",
       " 0,\n",
       " -1,\n",
       " -2,\n",
       " -1,\n",
       " -2,\n",
       " -1,\n",
       " -2,\n",
       " -1,\n",
       " 0,\n",
       " 1,\n",
       " 0,\n",
       " 1,\n",
       " 2,\n",
       " 3,\n",
       " 4,\n",
       " 3,\n",
       " 2,\n",
       " 1,\n",
       " 0,\n",
       " 1,\n",
       " 0,\n",
       " 1,\n",
       " 0,\n",
       " 1,\n",
       " 2,\n",
       " 1,\n",
       " 0,\n",
       " -1,\n",
       " -2,\n",
       " -3,\n",
       " -4,\n",
       " -5,\n",
       " -4,\n",
       " -5,\n",
       " -6,\n",
       " -7,\n",
       " -8,\n",
       " -7,\n",
       " -8,\n",
       " -7,\n",
       " -6,\n",
       " -5,\n",
       " -6,\n",
       " -7,\n",
       " -6,\n",
       " -7,\n",
       " -8,\n",
       " -9,\n",
       " -10,\n",
       " -11,\n",
       " -12,\n",
       " -11,\n",
       " -12,\n",
       " -11,\n",
       " -10,\n",
       " -11,\n",
       " -10,\n",
       " -9,\n",
       " -10,\n",
       " -9,\n",
       " -10,\n",
       " -9,\n",
       " -8,\n",
       " -7,\n",
       " -8,\n",
       " -7,\n",
       " -8,\n",
       " -9,\n",
       " -10,\n",
       " -11,\n",
       " -10,\n",
       " -9,\n",
       " -8,\n",
       " -9,\n",
       " -8,\n",
       " -9,\n",
       " -10,\n",
       " -9,\n",
       " -10,\n",
       " -11,\n",
       " -10,\n",
       " -9,\n",
       " -8,\n",
       " -9,\n",
       " -8,\n",
       " -7,\n",
       " -8,\n",
       " -9,\n",
       " -8,\n",
       " -7,\n",
       " -8,\n",
       " -9,\n",
       " -8,\n",
       " -7,\n",
       " -8,\n",
       " -9,\n",
       " -10,\n",
       " -11,\n",
       " -12,\n",
       " -13,\n",
       " -12,\n",
       " -13,\n",
       " -12,\n",
       " -11,\n",
       " -12,\n",
       " -13,\n",
       " -12,\n",
       " -13,\n",
       " -12,\n",
       " -13,\n",
       " -12,\n",
       " -11,\n",
       " -10,\n",
       " -11,\n",
       " -12,\n",
       " -11,\n",
       " -12,\n",
       " -13,\n",
       " -14,\n",
       " -15,\n",
       " -14,\n",
       " -13,\n",
       " -14,\n",
       " -15,\n",
       " -16,\n",
       " -15,\n",
       " -14,\n",
       " -13,\n",
       " -14,\n",
       " -15,\n",
       " -16,\n",
       " -15,\n",
       " -16,\n",
       " -15,\n",
       " -14,\n",
       " -13,\n",
       " -12,\n",
       " -11,\n",
       " -12,\n",
       " -11,\n",
       " -10,\n",
       " -11,\n",
       " -12,\n",
       " -13,\n",
       " -14,\n",
       " -15,\n",
       " -16,\n",
       " -17,\n",
       " -16,\n",
       " -17,\n",
       " -16,\n",
       " -15,\n",
       " -14,\n",
       " -15,\n",
       " -14,\n",
       " -15,\n",
       " -14,\n",
       " -15,\n",
       " -14,\n",
       " -13,\n",
       " -14,\n",
       " -13,\n",
       " -12,\n",
       " -13,\n",
       " -12,\n",
       " -11,\n",
       " -10,\n",
       " -11,\n",
       " -10,\n",
       " -9,\n",
       " -8,\n",
       " -7,\n",
       " -6,\n",
       " -7,\n",
       " -8,\n",
       " -7,\n",
       " -8,\n",
       " -9,\n",
       " -8,\n",
       " -9,\n",
       " -8,\n",
       " -7,\n",
       " -6,\n",
       " -7,\n",
       " -8,\n",
       " -9,\n",
       " -10,\n",
       " -11,\n",
       " -10,\n",
       " -11,\n",
       " -10,\n",
       " -11,\n",
       " -10,\n",
       " -11,\n",
       " -12,\n",
       " -11,\n",
       " -10,\n",
       " -11,\n",
       " -12,\n",
       " -11,\n",
       " -12,\n",
       " -13,\n",
       " -14,\n",
       " -13,\n",
       " -12,\n",
       " -11,\n",
       " -12,\n",
       " -11,\n",
       " -12,\n",
       " -11,\n",
       " -10,\n",
       " -9,\n",
       " -8,\n",
       " -7,\n",
       " -8,\n",
       " -7,\n",
       " -6,\n",
       " -5,\n",
       " -6,\n",
       " -5,\n",
       " -4,\n",
       " -5,\n",
       " -4,\n",
       " -5,\n",
       " -6,\n",
       " -5,\n",
       " -6,\n",
       " -7,\n",
       " -8,\n",
       " -7,\n",
       " -6,\n",
       " -7,\n",
       " -8,\n",
       " -7,\n",
       " -8,\n",
       " -9,\n",
       " -8,\n",
       " -7,\n",
       " -8,\n",
       " -7,\n",
       " -6,\n",
       " -7,\n",
       " -8,\n",
       " -9,\n",
       " -10,\n",
       " -11,\n",
       " -12,\n",
       " -13,\n",
       " -12,\n",
       " -13,\n",
       " -14,\n",
       " -15,\n",
       " -16,\n",
       " -15,\n",
       " -16,\n",
       " -15,\n",
       " -14,\n",
       " -15,\n",
       " -16,\n",
       " -17,\n",
       " -16,\n",
       " -15,\n",
       " -16,\n",
       " -15,\n",
       " -14,\n",
       " -13,\n",
       " -14,\n",
       " -13,\n",
       " -14,\n",
       " -15,\n",
       " -16,\n",
       " -15,\n",
       " -14,\n",
       " -15,\n",
       " -14,\n",
       " -13,\n",
       " -12,\n",
       " -13,\n",
       " -12,\n",
       " -11,\n",
       " -12,\n",
       " -13,\n",
       " -12,\n",
       " -11,\n",
       " -10,\n",
       " -9,\n",
       " -10,\n",
       " -9,\n",
       " -8,\n",
       " -7,\n",
       " -8,\n",
       " -9,\n",
       " -10,\n",
       " -9,\n",
       " -10,\n",
       " -11,\n",
       " -12,\n",
       " -11,\n",
       " -12,\n",
       " -11,\n",
       " -12,\n",
       " -13,\n",
       " -14,\n",
       " -15,\n",
       " -14,\n",
       " -13,\n",
       " -14,\n",
       " -13,\n",
       " -14,\n",
       " -15,\n",
       " -16,\n",
       " -17,\n",
       " -16,\n",
       " -15,\n",
       " -16,\n",
       " -17,\n",
       " -18,\n",
       " -19,\n",
       " -18,\n",
       " -19,\n",
       " -18,\n",
       " -19,\n",
       " -20,\n",
       " -19,\n",
       " -20,\n",
       " -19,\n",
       " -18,\n",
       " -17,\n",
       " -16,\n",
       " -17,\n",
       " -16,\n",
       " -15,\n",
       " -16,\n",
       " -17,\n",
       " -16,\n",
       " -17,\n",
       " -18,\n",
       " -17,\n",
       " -16,\n",
       " -17,\n",
       " -16,\n",
       " -17,\n",
       " -16,\n",
       " -15,\n",
       " -14,\n",
       " -13,\n",
       " -12,\n",
       " -11,\n",
       " -12,\n",
       " -11,\n",
       " -12,\n",
       " -11,\n",
       " -12,\n",
       " -11,\n",
       " -10,\n",
       " -11,\n",
       " -12,\n",
       " -13,\n",
       " -14,\n",
       " -15,\n",
       " -14,\n",
       " -15,\n",
       " -16,\n",
       " -17,\n",
       " -16,\n",
       " -15,\n",
       " -16,\n",
       " -17,\n",
       " -18,\n",
       " -19,\n",
       " -20,\n",
       " -21,\n",
       " -20,\n",
       " -21,\n",
       " -22,\n",
       " -21,\n",
       " -22,\n",
       " -21,\n",
       " -22,\n",
       " -21,\n",
       " -22,\n",
       " -21,\n",
       " -22,\n",
       " -23,\n",
       " -22,\n",
       " -23,\n",
       " -24,\n",
       " -25,\n",
       " -26,\n",
       " -25,\n",
       " -26,\n",
       " -25,\n",
       " -26,\n",
       " -27,\n",
       " -26,\n",
       " -27,\n",
       " -28,\n",
       " -29,\n",
       " -30,\n",
       " -29,\n",
       " -28,\n",
       " -29,\n",
       " -28,\n",
       " -27,\n",
       " -28,\n",
       " -27,\n",
       " -26,\n",
       " -27,\n",
       " -26,\n",
       " -27,\n",
       " -28,\n",
       " -29,\n",
       " -30,\n",
       " -29,\n",
       " -28,\n",
       " -27,\n",
       " -26,\n",
       " -27,\n",
       " -28,\n",
       " -29,\n",
       " -28,\n",
       " -29,\n",
       " -28,\n",
       " -29,\n",
       " -30,\n",
       " -31,\n",
       " -30,\n",
       " -31,\n",
       " -30,\n",
       " -31,\n",
       " -30,\n",
       " -31,\n",
       " -30,\n",
       " -31,\n",
       " -32,\n",
       " -31,\n",
       " -32,\n",
       " -33,\n",
       " -32,\n",
       " -31,\n",
       " -32,\n",
       " -33,\n",
       " -34,\n",
       " -33,\n",
       " -34,\n",
       " -33,\n",
       " -32,\n",
       " -33,\n",
       " -32,\n",
       " -31,\n",
       " -30,\n",
       " -31,\n",
       " -30,\n",
       " -29,\n",
       " -28,\n",
       " -27,\n",
       " -28,\n",
       " -27,\n",
       " -26,\n",
       " -27,\n",
       " -28,\n",
       " -27,\n",
       " -26,\n",
       " -27,\n",
       " -28,\n",
       " -27,\n",
       " -28,\n",
       " -27,\n",
       " -28,\n",
       " -27,\n",
       " -26,\n",
       " -25,\n",
       " -24,\n",
       " -23,\n",
       " -24,\n",
       " -25,\n",
       " -24,\n",
       " -25,\n",
       " -24,\n",
       " -25,\n",
       " -24,\n",
       " -23,\n",
       " -24,\n",
       " -23,\n",
       " -24,\n",
       " -23,\n",
       " -24,\n",
       " -25,\n",
       " -24,\n",
       " -25,\n",
       " -24,\n",
       " -23,\n",
       " -22,\n",
       " -21,\n",
       " -22,\n",
       " -21,\n",
       " -22,\n",
       " -23,\n",
       " -24,\n",
       " -23,\n",
       " -24,\n",
       " -23,\n",
       " -22,\n",
       " -21,\n",
       " -22,\n",
       " -21,\n",
       " -20,\n",
       " -21,\n",
       " -20,\n",
       " -19,\n",
       " -18,\n",
       " -19,\n",
       " -18,\n",
       " -17,\n",
       " -16,\n",
       " -15,\n",
       " -16,\n",
       " -15,\n",
       " -16,\n",
       " -17,\n",
       " -18,\n",
       " -19,\n",
       " -18,\n",
       " -19,\n",
       " -20,\n",
       " -21,\n",
       " -22,\n",
       " -23,\n",
       " -24,\n",
       " -23,\n",
       " -22,\n",
       " -21,\n",
       " -22,\n",
       " -21,\n",
       " -22,\n",
       " -21,\n",
       " -22,\n",
       " -21,\n",
       " -20,\n",
       " -21,\n",
       " -22,\n",
       " -23,\n",
       " -24,\n",
       " -23,\n",
       " -22,\n",
       " -21,\n",
       " -22,\n",
       " -23,\n",
       " -22,\n",
       " -21,\n",
       " -20,\n",
       " -19,\n",
       " -18,\n",
       " -17,\n",
       " -16,\n",
       " -17,\n",
       " -16,\n",
       " -17,\n",
       " -18,\n",
       " -17,\n",
       " -18,\n",
       " -17,\n",
       " -18,\n",
       " -17,\n",
       " -18,\n",
       " -19,\n",
       " -20,\n",
       " -21,\n",
       " -20,\n",
       " -19,\n",
       " -20,\n",
       " -19,\n",
       " -18,\n",
       " -19,\n",
       " -20,\n",
       " -21,\n",
       " -22,\n",
       " -21,\n",
       " -20,\n",
       " -21,\n",
       " -20,\n",
       " -19,\n",
       " -20,\n",
       " -21,\n",
       " -20,\n",
       " -19,\n",
       " -18,\n",
       " -17,\n",
       " -16,\n",
       " -17,\n",
       " -18,\n",
       " -19,\n",
       " -20,\n",
       " -21,\n",
       " -22,\n",
       " -23,\n",
       " -22,\n",
       " -21,\n",
       " -20,\n",
       " -21,\n",
       " -20,\n",
       " -19,\n",
       " -20,\n",
       " -21,\n",
       " -20,\n",
       " -21,\n",
       " -22,\n",
       " -21,\n",
       " -20,\n",
       " -21,\n",
       " -22,\n",
       " -23,\n",
       " -24,\n",
       " -25,\n",
       " -26,\n",
       " -25,\n",
       " -24,\n",
       " -23,\n",
       " -22,\n",
       " -23,\n",
       " -22,\n",
       " -23,\n",
       " -24,\n",
       " -23,\n",
       " -22,\n",
       " -21,\n",
       " -20,\n",
       " -21,\n",
       " -20,\n",
       " -19,\n",
       " -20,\n",
       " -21,\n",
       " -22,\n",
       " -23,\n",
       " -24,\n",
       " -25,\n",
       " -26,\n",
       " -27,\n",
       " -28,\n",
       " -27,\n",
       " -28,\n",
       " -27,\n",
       " -26,\n",
       " -27,\n",
       " -26,\n",
       " -27,\n",
       " -26,\n",
       " -25,\n",
       " -24,\n",
       " -23,\n",
       " -24,\n",
       " -25,\n",
       " -26,\n",
       " -27,\n",
       " -28,\n",
       " -29,\n",
       " -28,\n",
       " -27,\n",
       " -26,\n",
       " -25,\n",
       " -26,\n",
       " -27,\n",
       " -26,\n",
       " -27,\n",
       " -26,\n",
       " -27,\n",
       " -28,\n",
       " -29,\n",
       " -30,\n",
       " -31,\n",
       " -30,\n",
       " -31,\n",
       " -32,\n",
       " -31,\n",
       " -32,\n",
       " -31,\n",
       " -30,\n",
       " -29,\n",
       " -30,\n",
       " -31,\n",
       " -32,\n",
       " -31,\n",
       " -32,\n",
       " -31,\n",
       " -32,\n",
       " -31,\n",
       " -32,\n",
       " -31,\n",
       " -30,\n",
       " -29,\n",
       " -28,\n",
       " -29,\n",
       " -28,\n",
       " -27,\n",
       " -28,\n",
       " -27,\n",
       " -26,\n",
       " -25,\n",
       " -26,\n",
       " -27,\n",
       " -26,\n",
       " -27,\n",
       " -28,\n",
       " -27,\n",
       " -28,\n",
       " -27,\n",
       " -26,\n",
       " -25,\n",
       " -26,\n",
       " -25,\n",
       " -24,\n",
       " -23,\n",
       " -24,\n",
       " -23,\n",
       " -24,\n",
       " -23,\n",
       " -24,\n",
       " -23,\n",
       " -24,\n",
       " -23,\n",
       " -22,\n",
       " -21,\n",
       " -22,\n",
       " -23,\n",
       " -22,\n",
       " -21,\n",
       " -20,\n",
       " -21,\n",
       " -22,\n",
       " -23,\n",
       " -22,\n",
       " -21,\n",
       " -20,\n",
       " -21,\n",
       " -20,\n",
       " -19,\n",
       " -20,\n",
       " -21,\n",
       " -20,\n",
       " -21,\n",
       " -22,\n",
       " -21,\n",
       " -22,\n",
       " -23,\n",
       " -22,\n",
       " -23,\n",
       " -24,\n",
       " -23,\n",
       " -24,\n",
       " -23,\n",
       " -22,\n",
       " -23,\n",
       " -24,\n",
       " -25,\n",
       " -26,\n",
       " -25,\n",
       " -26,\n",
       " -25,\n",
       " -26,\n",
       " -25,\n",
       " -26,\n",
       " -27,\n",
       " -28,\n",
       " -29,\n",
       " -30,\n",
       " -29,\n",
       " -30,\n",
       " -31,\n",
       " -30,\n",
       " -29,\n",
       " -28,\n",
       " -29,\n",
       " -30,\n",
       " -29,\n",
       " -28,\n",
       " -29,\n",
       " -28,\n",
       " -27,\n",
       " -26,\n",
       " -25,\n",
       " -26,\n",
       " -27,\n",
       " -28,\n",
       " -29,\n",
       " -30,\n",
       " -31,\n",
       " -32,\n",
       " -31,\n",
       " -30,\n",
       " -29,\n",
       " -30,\n",
       " -29,\n",
       " -30,\n",
       " -29,\n",
       " -30,\n",
       " -29,\n",
       " -30,\n",
       " -31,\n",
       " -30,\n",
       " -31,\n",
       " -30,\n",
       " -31,\n",
       " -32,\n",
       " -33,\n",
       " -34,\n",
       " -33,\n",
       " -32,\n",
       " -31,\n",
       " -32,\n",
       " -33,\n",
       " -34,\n",
       " -33,\n",
       " -32,\n",
       " -31,\n",
       " -32,\n",
       " -31,\n",
       " -30,\n",
       " -29,\n",
       " -28,\n",
       " -27,\n",
       " -28,\n",
       " -27,\n",
       " -28,\n",
       " -29,\n",
       " -28,\n",
       " -29,\n",
       " -28,\n",
       " -27,\n",
       " -26,\n",
       " -27,\n",
       " -26,\n",
       " -25,\n",
       " -24,\n",
       " -23,\n",
       " -22,\n",
       " -23,\n",
       " -22,\n",
       " -21,\n",
       " -20,\n",
       " -19,\n",
       " -20,\n",
       " -21,\n",
       " -20,\n",
       " -19,\n",
       " -20,\n",
       " -21,\n",
       " -22,\n",
       " -23,\n",
       " -24,\n",
       " -23,\n",
       " -22,\n",
       " -21,\n",
       " -20,\n",
       " -21,\n",
       " -20,\n",
       " -19,\n",
       " -18,\n",
       " -17,\n",
       " -16,\n",
       " -15,\n",
       " -14,\n",
       " -13,\n",
       " -12,\n",
       " -13,\n",
       " -14,\n",
       " -15,\n",
       " -16,\n",
       " -15,\n",
       " -16,\n",
       " -15,\n",
       " -14,\n",
       " -15,\n",
       " -14,\n",
       " -13,\n",
       " -14,\n",
       " -15,\n",
       " ...]"
      ]
     },
     "execution_count": 4,
     "metadata": {},
     "output_type": "execute_result"
    }
   ],
   "source": []
  },
  {
   "cell_type": "code",
   "execution_count": null,
   "id": "9ec41727-bda7-4934-a3d7-6e469d0e9a77",
   "metadata": {},
   "outputs": [],
   "source": []
  }
 ],
 "metadata": {
  "kernelspec": {
   "display_name": "Python 3 (ipykernel)",
   "language": "python",
   "name": "python3"
  },
  "language_info": {
   "codemirror_mode": {
    "name": "ipython",
    "version": 3
   },
   "file_extension": ".py",
   "mimetype": "text/x-python",
   "name": "python",
   "nbconvert_exporter": "python",
   "pygments_lexer": "ipython3",
   "version": "3.11.2"
  }
 },
 "nbformat": 4,
 "nbformat_minor": 5
}
