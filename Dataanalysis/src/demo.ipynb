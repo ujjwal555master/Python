{
 "cells": [
  {
   "cell_type": "code",
   "execution_count": 1,
   "id": "4818ef07-fb7a-4806-a287-c3fd38b99f1b",
   "metadata": {},
   "outputs": [
    {
     "name": "stdout",
     "output_type": "stream",
     "text": [
      "hello World\n"
     ]
    }
   ],
   "source": [
    "print(\"hello World\")"
   ]
  },
  {
   "cell_type": "code",
   "execution_count": 2,
   "id": "d3dad37c-d84d-4fc8-8717-fb26c9e7cc5f",
   "metadata": {},
   "outputs": [
    {
     "data": {
      "text/plain": [
       "'/home/master/Dataanalysis/src'"
      ]
     },
     "execution_count": 2,
     "metadata": {},
     "output_type": "execute_result"
    }
   ],
   "source": [
    "%pwd"
   ]
  },
  {
   "cell_type": "code",
   "execution_count": 3,
   "id": "7345d914-c76c-480d-9533-0fd6c41333de",
   "metadata": {},
   "outputs": [
    {
     "name": "stdout",
     "output_type": "stream",
     "text": [
      "\u001b[H\u001b[2J"
     ]
    }
   ],
   "source": [
    "clear"
   ]
  },
  {
   "cell_type": "code",
   "execution_count": 4,
   "id": "86e006f9-0c46-4352-922e-ba7e8d2ccd36",
   "metadata": {},
   "outputs": [
    {
     "data": {
      "text/plain": [
       "'/home/master/Dataanalysis/src'"
      ]
     },
     "execution_count": 4,
     "metadata": {},
     "output_type": "execute_result"
    }
   ],
   "source": [
    "pwd"
   ]
  },
  {
   "cell_type": "code",
   "execution_count": 5,
   "id": "b302d5a5-89f8-4f81-9782-531d99b7678a",
   "metadata": {},
   "outputs": [
    {
     "name": "stdout",
     "output_type": "stream",
     "text": [
      "demo.ipynb  hello_world.py  Untitled.ipynb\n"
     ]
    }
   ],
   "source": [
    "ls"
   ]
  },
  {
   "cell_type": "code",
   "execution_count": 1,
   "id": "ebad76fd-56cd-49f0-83e5-b6808cd48424",
   "metadata": {},
   "outputs": [
    {
     "name": "stdout",
     "output_type": "stream",
     "text": [
      "demo.ipynb  hello_world.py  \u001b[0m\u001b[01;32mtest.txt\u001b[0m*\n"
     ]
    }
   ],
   "source": [
    "ls"
   ]
  },
  {
   "cell_type": "code",
   "execution_count": 2,
   "id": "5d59df79-8d49-425a-9a1a-686140b46682",
   "metadata": {},
   "outputs": [
    {
     "name": "stdout",
     "output_type": "stream",
     "text": [
      "Twinkle twinkle little star\n",
      "how are wonder what you are \n",
      "up up in the sky like dimond \n",
      "hey whatsapp what is your name\n"
     ]
    }
   ],
   "source": [
    "cat test.txt"
   ]
  },
  {
   "cell_type": "code",
   "execution_count": 3,
   "id": "c6f680e3-5ed2-4009-9c87-de390eaedcc5",
   "metadata": {},
   "outputs": [
    {
     "data": {
      "text/plain": [
       "'/home/master/Dataanalysis/src'"
      ]
     },
     "execution_count": 3,
     "metadata": {},
     "output_type": "execute_result"
    }
   ],
   "source": [
    "%pwd"
   ]
  },
  {
   "cell_type": "code",
   "execution_count": 9,
   "id": "a185b663-3ea4-4bdc-87ea-540a0a1bc5e4",
   "metadata": {},
   "outputs": [
    {
     "data": {
      "text/plain": [
       "'Twinkle twinkle little star\\n'"
      ]
     },
     "execution_count": 9,
     "metadata": {},
     "output_type": "execute_result"
    }
   ],
   "source": [
    "open('/home/master/Dataanalysis/src/test.txt').readline()"
   ]
  },
  {
   "cell_type": "code",
   "execution_count": 10,
   "id": "e673a205-58af-4c35-b2e4-881dbbcf0153",
   "metadata": {},
   "outputs": [],
   "source": [
    "import json"
   ]
  },
  {
   "cell_type": "code",
   "execution_count": 11,
   "id": "ed198e98-da04-4a96-8f0a-a9b0303fa62f",
   "metadata": {},
   "outputs": [
    {
     "ename": "AttributeError",
     "evalue": "'str' object has no attribute 'read'",
     "output_type": "error",
     "traceback": [
      "\u001b[0;31m---------------------------------------------------------------------------\u001b[0m",
      "\u001b[0;31mAttributeError\u001b[0m                            Traceback (most recent call last)",
      "Cell \u001b[0;32mIn[11], line 1\u001b[0m\n\u001b[0;32m----> 1\u001b[0m records \u001b[38;5;241m=\u001b[39m \u001b[43m[\u001b[49m\u001b[43mjson\u001b[49m\u001b[38;5;241;43m.\u001b[39;49m\u001b[43mload\u001b[49m\u001b[43m(\u001b[49m\u001b[43mline\u001b[49m\u001b[43m)\u001b[49m\u001b[43m \u001b[49m\u001b[38;5;28;43;01mfor\u001b[39;49;00m\u001b[43m \u001b[49m\u001b[43mline\u001b[49m\u001b[43m \u001b[49m\u001b[38;5;129;43;01min\u001b[39;49;00m\u001b[43m \u001b[49m\u001b[38;5;28;43mopen\u001b[39;49m\u001b[43m(\u001b[49m\u001b[38;5;124;43m'\u001b[39;49m\u001b[38;5;124;43m/home/master/Dataanalysis/src/test.txt\u001b[39;49m\u001b[38;5;124;43m'\u001b[39;49m\u001b[43m)\u001b[49m\u001b[43m]\u001b[49m\n",
      "Cell \u001b[0;32mIn[11], line 1\u001b[0m, in \u001b[0;36m<listcomp>\u001b[0;34m(.0)\u001b[0m\n\u001b[0;32m----> 1\u001b[0m records \u001b[38;5;241m=\u001b[39m [\u001b[43mjson\u001b[49m\u001b[38;5;241;43m.\u001b[39;49m\u001b[43mload\u001b[49m\u001b[43m(\u001b[49m\u001b[43mline\u001b[49m\u001b[43m)\u001b[49m \u001b[38;5;28;01mfor\u001b[39;00m line \u001b[38;5;129;01min\u001b[39;00m \u001b[38;5;28mopen\u001b[39m(\u001b[38;5;124m'\u001b[39m\u001b[38;5;124m/home/master/Dataanalysis/src/test.txt\u001b[39m\u001b[38;5;124m'\u001b[39m)]\n",
      "File \u001b[0;32m/usr/lib/python3.11/json/__init__.py:293\u001b[0m, in \u001b[0;36mload\u001b[0;34m(fp, cls, object_hook, parse_float, parse_int, parse_constant, object_pairs_hook, **kw)\u001b[0m\n\u001b[1;32m    274\u001b[0m \u001b[38;5;28;01mdef\u001b[39;00m \u001b[38;5;21mload\u001b[39m(fp, \u001b[38;5;241m*\u001b[39m, \u001b[38;5;28mcls\u001b[39m\u001b[38;5;241m=\u001b[39m\u001b[38;5;28;01mNone\u001b[39;00m, object_hook\u001b[38;5;241m=\u001b[39m\u001b[38;5;28;01mNone\u001b[39;00m, parse_float\u001b[38;5;241m=\u001b[39m\u001b[38;5;28;01mNone\u001b[39;00m,\n\u001b[1;32m    275\u001b[0m         parse_int\u001b[38;5;241m=\u001b[39m\u001b[38;5;28;01mNone\u001b[39;00m, parse_constant\u001b[38;5;241m=\u001b[39m\u001b[38;5;28;01mNone\u001b[39;00m, object_pairs_hook\u001b[38;5;241m=\u001b[39m\u001b[38;5;28;01mNone\u001b[39;00m, \u001b[38;5;241m*\u001b[39m\u001b[38;5;241m*\u001b[39mkw):\n\u001b[1;32m    276\u001b[0m \u001b[38;5;250m    \u001b[39m\u001b[38;5;124;03m\"\"\"Deserialize ``fp`` (a ``.read()``-supporting file-like object containing\u001b[39;00m\n\u001b[1;32m    277\u001b[0m \u001b[38;5;124;03m    a JSON document) to a Python object.\u001b[39;00m\n\u001b[1;32m    278\u001b[0m \n\u001b[0;32m   (...)\u001b[0m\n\u001b[1;32m    291\u001b[0m \u001b[38;5;124;03m    kwarg; otherwise ``JSONDecoder`` is used.\u001b[39;00m\n\u001b[1;32m    292\u001b[0m \u001b[38;5;124;03m    \"\"\"\u001b[39;00m\n\u001b[0;32m--> 293\u001b[0m     \u001b[38;5;28;01mreturn\u001b[39;00m loads(\u001b[43mfp\u001b[49m\u001b[38;5;241;43m.\u001b[39;49m\u001b[43mread\u001b[49m(),\n\u001b[1;32m    294\u001b[0m         \u001b[38;5;28mcls\u001b[39m\u001b[38;5;241m=\u001b[39m\u001b[38;5;28mcls\u001b[39m, object_hook\u001b[38;5;241m=\u001b[39mobject_hook,\n\u001b[1;32m    295\u001b[0m         parse_float\u001b[38;5;241m=\u001b[39mparse_float, parse_int\u001b[38;5;241m=\u001b[39mparse_int,\n\u001b[1;32m    296\u001b[0m         parse_constant\u001b[38;5;241m=\u001b[39mparse_constant, object_pairs_hook\u001b[38;5;241m=\u001b[39mobject_pairs_hook, \u001b[38;5;241m*\u001b[39m\u001b[38;5;241m*\u001b[39mkw)\n",
      "\u001b[0;31mAttributeError\u001b[0m: 'str' object has no attribute 'read'"
     ]
    }
   ],
   "source": [
    "records = [json.load(line) for line in open('/home/master/Dataanalysis/src/test.txt')]"
   ]
  },
  {
   "cell_type": "code",
   "execution_count": 12,
   "id": "97c63c95-4136-4514-8367-d58a6d288995",
   "metadata": {},
   "outputs": [],
   "source": [
    "an_apple = 27"
   ]
  },
  {
   "cell_type": "code",
   "execution_count": 13,
   "id": "eb6bc025-0b2e-4aeb-b7c7-4f50333328f6",
   "metadata": {},
   "outputs": [],
   "source": [
    "an_grapes = 344"
   ]
  },
  {
   "cell_type": "code",
   "execution_count": 14,
   "id": "6fe7bb09-75e1-4fb9-873e-c44cdba53e60",
   "metadata": {},
   "outputs": [
    {
     "data": {
      "text/plain": [
       "344"
      ]
     },
     "execution_count": 14,
     "metadata": {},
     "output_type": "execute_result"
    }
   ],
   "source": [
    "an_grapes"
   ]
  },
  {
   "cell_type": "code",
   "execution_count": 15,
   "id": "d406bab2-7a05-43be-bd83-347e8cf05278",
   "metadata": {},
   "outputs": [],
   "source": [
    "b = [3, 5, 7]"
   ]
  },
  {
   "cell_type": "code",
   "execution_count": 16,
   "id": "5c257f7e-82d3-4e91-8cba-ef822ca4042b",
   "metadata": {},
   "outputs": [],
   "source": [
    "b.append(34)"
   ]
  },
  {
   "cell_type": "code",
   "execution_count": 17,
   "id": "9bad963e-18a5-47a2-9e26-3ed2508bfa65",
   "metadata": {},
   "outputs": [
    {
     "data": {
      "text/plain": [
       "[3, 5, 7, 34]"
      ]
     },
     "execution_count": 17,
     "metadata": {},
     "output_type": "execute_result"
    }
   ],
   "source": [
    "b"
   ]
  },
  {
   "cell_type": "code",
   "execution_count": 18,
   "id": "849da417-d303-4cd9-a81b-89c0de3d2ede",
   "metadata": {},
   "outputs": [],
   "source": [
    "import datetime"
   ]
  },
  {
   "cell_type": "code",
   "execution_count": 19,
   "id": "2a395e3c-9176-46ea-8ac7-93205c9df203",
   "metadata": {},
   "outputs": [
    {
     "ename": "TypeError",
     "evalue": "timezone() missing required argument 'offset' (pos 1)",
     "output_type": "error",
     "traceback": [
      "\u001b[0;31m---------------------------------------------------------------------------\u001b[0m",
      "\u001b[0;31mTypeError\u001b[0m                                 Traceback (most recent call last)",
      "Cell \u001b[0;32mIn[19], line 1\u001b[0m\n\u001b[0;32m----> 1\u001b[0m \u001b[43mdatetime\u001b[49m\u001b[38;5;241;43m.\u001b[39;49m\u001b[43mtimezone\u001b[49m\u001b[43m(\u001b[49m\u001b[43m)\u001b[49m\n",
      "\u001b[0;31mTypeError\u001b[0m: timezone() missing required argument 'offset' (pos 1)"
     ]
    }
   ],
   "source": [
    "datetime.timezone()"
   ]
  },
  {
   "cell_type": "markdown",
   "id": "a829f101-93a4-41cf-a754-7fc17d10ac9e",
   "metadata": {},
   "source": [
    "# python basic"
   ]
  },
  {
   "cell_type": "code",
   "execution_count": 20,
   "id": "8f577110-ca9f-47b3-adc3-0ab096b504c5",
   "metadata": {},
   "outputs": [],
   "source": [
    "results = []"
   ]
  },
  {
   "cell_type": "code",
   "execution_count": 21,
   "id": "13926b0d-a8e5-4f99-ae36-2a4941b9b3ae",
   "metadata": {},
   "outputs": [],
   "source": [
    "for line in range(0,4):\n",
    "    results.append(line)"
   ]
  },
  {
   "cell_type": "code",
   "execution_count": 22,
   "id": "ed2f050e-979b-42ef-967f-0f7954d957ab",
   "metadata": {},
   "outputs": [
    {
     "data": {
      "text/plain": [
       "[0, 1, 2, 3]"
      ]
     },
     "execution_count": 22,
     "metadata": {},
     "output_type": "execute_result"
    }
   ],
   "source": [
    "results"
   ]
  },
  {
   "cell_type": "code",
   "execution_count": 23,
   "id": "4e2fe603-bbbf-43ef-a687-7668112f313e",
   "metadata": {},
   "outputs": [],
   "source": [
    "a = 5"
   ]
  },
  {
   "cell_type": "code",
   "execution_count": 24,
   "id": "c584848a-ee25-41df-a64f-fac842c85853",
   "metadata": {},
   "outputs": [],
   "source": [
    "b = 43.3"
   ]
  },
  {
   "cell_type": "code",
   "execution_count": 25,
   "id": "fc25d4a3-4ce0-46dd-b8dc-5efad74b8f99",
   "metadata": {},
   "outputs": [
    {
     "name": "stdout",
     "output_type": "stream",
     "text": [
      "a is <class 'int'> , b is <class 'float'>\n"
     ]
    }
   ],
   "source": [
    "print(f\"a is {type(a)} , b is {type(b)}\")"
   ]
  },
  {
   "cell_type": "code",
   "execution_count": 26,
   "id": "768dcc4e-75fa-483d-85ff-96a98fdd17b2",
   "metadata": {},
   "outputs": [
    {
     "data": {
      "text/plain": [
       "0.11547344110854504"
      ]
     },
     "execution_count": 26,
     "metadata": {},
     "output_type": "execute_result"
    }
   ],
   "source": [
    "a/b"
   ]
  },
  {
   "cell_type": "code",
   "execution_count": 29,
   "id": "3fc8a18b-24e7-4d98-836d-3000b7561fe6",
   "metadata": {},
   "outputs": [],
   "source": [
    "val = \"the secret message\""
   ]
  },
  {
   "cell_type": "code",
   "execution_count": 30,
   "id": "64f768b1-9ecd-4ad1-b469-dd0149e117ca",
   "metadata": {},
   "outputs": [],
   "source": [
    "val_utf = val.encode(\"utf-8\")"
   ]
  },
  {
   "cell_type": "code",
   "execution_count": 31,
   "id": "5ee70e13-9619-4333-98ee-196e6b4865c9",
   "metadata": {},
   "outputs": [
    {
     "data": {
      "text/plain": [
       "b'the secret message'"
      ]
     },
     "execution_count": 31,
     "metadata": {},
     "output_type": "execute_result"
    }
   ],
   "source": [
    "val_utf "
   ]
  },
  {
   "cell_type": "code",
   "execution_count": 32,
   "id": "0cf4ff5b-8d17-4173-9021-e1ab247eac21",
   "metadata": {},
   "outputs": [
    {
     "data": {
      "text/plain": [
       "False"
      ]
     },
     "execution_count": 32,
     "metadata": {},
     "output_type": "execute_result"
    }
   ],
   "source": [
    "not a "
   ]
  },
  {
   "cell_type": "code",
   "execution_count": 33,
   "id": "f13c53cd-d0ae-4520-9c2e-85d9717313fb",
   "metadata": {},
   "outputs": [
    {
     "data": {
      "text/plain": [
       "False"
      ]
     },
     "execution_count": 33,
     "metadata": {},
     "output_type": "execute_result"
    }
   ],
   "source": [
    "not b"
   ]
  },
  {
   "cell_type": "code",
   "execution_count": 34,
   "id": "5daa180c-97f5-4912-8b60-0670591c472e",
   "metadata": {},
   "outputs": [],
   "source": [
    "tup =(4, 3, 6,3),(4, 5, 6)"
   ]
  },
  {
   "cell_type": "code",
   "execution_count": 35,
   "id": "c6198619-879f-4da9-8e09-0e88c4cf6a7a",
   "metadata": {},
   "outputs": [
    {
     "data": {
      "text/plain": [
       "((4, 3, 6, 3), (4, 5, 6))"
      ]
     },
     "execution_count": 35,
     "metadata": {},
     "output_type": "execute_result"
    }
   ],
   "source": [
    "tup"
   ]
  },
  {
   "cell_type": "code",
   "execution_count": 47,
   "id": "f73ca935-567b-4ac5-8515-7ddd14e32911",
   "metadata": {},
   "outputs": [
    {
     "data": {
      "text/plain": [
       "6"
      ]
     },
     "execution_count": 47,
     "metadata": {},
     "output_type": "execute_result"
    }
   ],
   "source": [
    "tup[0][2]"
   ]
  },
  {
   "cell_type": "code",
   "execution_count": 48,
   "id": "aa4852d7-5899-46bc-85d0-c673904b281e",
   "metadata": {},
   "outputs": [],
   "source": [
    "a = [4, 5, 7, 3]"
   ]
  },
  {
   "cell_type": "code",
   "execution_count": 52,
   "id": "b3363f37-449e-4d08-8e81-873d0c1149c7",
   "metadata": {},
   "outputs": [],
   "source": [
    "s1 = [\"hey\", \"all\", \"i\", \"am\", 'a', \"king\"]"
   ]
  },
  {
   "cell_type": "code",
   "execution_count": 57,
   "id": "2b5d967b-532a-4377-b31f-e7d8733dacb3",
   "metadata": {},
   "outputs": [],
   "source": [
    "s2 = [3, 4, 2, 5, 6, \"helY\", 6]"
   ]
  },
  {
   "cell_type": "code",
   "execution_count": null,
   "id": "17d534df-0bfc-4e5b-b270-46790da28526",
   "metadata": {},
   "outputs": [],
   "source": []
  },
  {
   "cell_type": "code",
   "execution_count": 58,
   "id": "83e3b4b4-e76d-425b-a9de-0b01f8764342",
   "metadata": {},
   "outputs": [],
   "source": [
    "zipped = zip(s1, s2)"
   ]
  },
  {
   "cell_type": "code",
   "execution_count": 59,
   "id": "aa8ec82b-e37d-4479-b0d4-2cf6809231e4",
   "metadata": {},
   "outputs": [
    {
     "data": {
      "text/plain": [
       "<zip at 0x7fef1be861c0>"
      ]
     },
     "execution_count": 59,
     "metadata": {},
     "output_type": "execute_result"
    }
   ],
   "source": [
    "zipped"
   ]
  },
  {
   "cell_type": "code",
   "execution_count": 60,
   "id": "286cc09f-a7e7-41e6-b377-eb5e97ed1e2e",
   "metadata": {},
   "outputs": [
    {
     "data": {
      "text/plain": [
       "[('hey', 3), ('all', 4), ('i', 2), ('am', 5), ('a', 6), ('king', 'helY')]"
      ]
     },
     "execution_count": 60,
     "metadata": {},
     "output_type": "execute_result"
    }
   ],
   "source": [
    "list(zipped)"
   ]
  },
  {
   "cell_type": "code",
   "execution_count": 65,
   "id": "9eccc201-88fb-4346-bdea-c783cf1b2805",
   "metadata": {},
   "outputs": [],
   "source": [
    "strings = ['a', 'as', 'bat', 'cat']"
   ]
  },
  {
   "cell_type": "code",
   "execution_count": 66,
   "id": "36e80d12-8d1d-446d-942b-12fd2df2fe90",
   "metadata": {},
   "outputs": [],
   "source": [
    "string_length = {len(x) for x in strings}"
   ]
  },
  {
   "cell_type": "code",
   "execution_count": 67,
   "id": "1b2884a8-2a1f-4966-8dbe-3f09c685472f",
   "metadata": {},
   "outputs": [
    {
     "data": {
      "text/plain": [
       "set"
      ]
     },
     "execution_count": 67,
     "metadata": {},
     "output_type": "execute_result"
    }
   ],
   "source": [
    "type(string_length)"
   ]
  },
  {
   "cell_type": "code",
   "execution_count": 68,
   "id": "60b2a17a-1a6e-4139-a5a6-9d7e79c5039c",
   "metadata": {},
   "outputs": [
    {
     "data": {
      "text/plain": [
       "{1, 2, 3}"
      ]
     },
     "execution_count": 68,
     "metadata": {},
     "output_type": "execute_result"
    }
   ],
   "source": [
    "string_length"
   ]
  },
  {
   "cell_type": "code",
   "execution_count": 69,
   "id": "96f3b51a-af89-4465-b7f3-c1377e90197c",
   "metadata": {},
   "outputs": [],
   "source": [
    "loc = {value: index for index, value in enumerate(strings)}"
   ]
  },
  {
   "cell_type": "code",
   "execution_count": 70,
   "id": "70b749e8-6988-45c7-bae3-f9e34da2c951",
   "metadata": {},
   "outputs": [
    {
     "data": {
      "text/plain": [
       "{'a': 0, 'as': 1, 'bat': 2, 'cat': 3}"
      ]
     },
     "execution_count": 70,
     "metadata": {},
     "output_type": "execute_result"
    }
   ],
   "source": [
    "loc"
   ]
  },
  {
   "cell_type": "code",
   "execution_count": null,
   "id": "d9a3ac35-b3fc-4ebb-9a28-0897e181235d",
   "metadata": {},
   "outputs": [],
   "source": []
  }
 ],
 "metadata": {
  "kernelspec": {
   "display_name": "Python 3 (ipykernel)",
   "language": "python",
   "name": "python3"
  },
  "language_info": {
   "codemirror_mode": {
    "name": "ipython",
    "version": 3
   },
   "file_extension": ".py",
   "mimetype": "text/x-python",
   "name": "python",
   "nbconvert_exporter": "python",
   "pygments_lexer": "ipython3",
   "version": "3.11.2"
  }
 },
 "nbformat": 4,
 "nbformat_minor": 5
}
